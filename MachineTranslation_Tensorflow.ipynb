{
  "nbformat": 4,
  "nbformat_minor": 0,
  "metadata": {
    "colab": {
      "name": "MachineTranslation-Tensorflow.ipynb",
      "provenance": [],
      "collapsed_sections": [],
      "authorship_tag": "ABX9TyNq3FeNtC1Ns+LYaPK+91G/",
      "include_colab_link": true
    },
    "kernelspec": {
      "name": "python3",
      "display_name": "Python 3"
    },
    "language_info": {
      "name": "python"
    }
  },
  "cells": [
    {
      "cell_type": "markdown",
      "metadata": {
        "id": "view-in-github",
        "colab_type": "text"
      },
      "source": [
        "<a href=\"https://colab.research.google.com/github/PhamBaVuong/PhamBaVuong_DATN/blob/main/MachineTranslation_Tensorflow.ipynb\" target=\"_parent\"><img src=\"https://colab.research.google.com/assets/colab-badge.svg\" alt=\"Open In Colab\"/></a>"
      ]
    },
    {
      "cell_type": "code",
      "source": [
        "from google.colab import drive\n",
        "drive.mount('/content/drive')"
      ],
      "metadata": {
        "colab": {
          "base_uri": "https://localhost:8080/"
        },
        "id": "vTNbi8DDPRPr",
        "outputId": "864f372e-a347-4ff1-a6bc-a7eda5906060"
      },
      "execution_count": 1,
      "outputs": [
        {
          "output_type": "stream",
          "name": "stdout",
          "text": [
            "Mounted at /content/drive\n"
          ]
        }
      ]
    },
    {
      "cell_type": "code",
      "execution_count": 2,
      "metadata": {
        "id": "rPBuKLHuKfY2"
      },
      "outputs": [],
      "source": [
        "import collections\n",
        "\n",
        "import helper\n",
        "import numpy as np\n",
        "\n",
        "\n",
        "from keras.preprocessing.text import Tokenizer\n",
        "from keras.preprocessing.sequence import pad_sequences\n",
        "from keras.models import Model\n",
        "from keras.layers import GRU, Input, Dense, TimeDistributed, Activation, RepeatVector, Bidirectional\n",
        "from keras.layers.embeddings import Embedding\n",
        "from tensorflow.keras.optimizers import Adam\n",
        "from keras.losses import sparse_categorical_crossentropy"
      ]
    },
    {
      "cell_type": "code",
      "source": [
        "import os\n",
        "\n",
        "\n",
        "def load_data(path):\n",
        "    \"\"\"\n",
        "    Load dataset\n",
        "    \"\"\"\n",
        "    input_file = os.path.join(path)\n",
        "    with open(input_file, \"r\") as f:\n",
        "        data = f.read()\n",
        " \n",
        "    return data.split('\\n')"
      ],
      "metadata": {
        "id": "dFT0D4fLLeZU"
      },
      "execution_count": 3,
      "outputs": []
    },
    {
      "cell_type": "code",
      "source": [
        "# Load tên đường\n",
        "ten_duong = load_data('/content/drive/MyDrive/DATN/Quan_1_TenDuong.csv')\n",
        "# Load Tọa độ\n",
        "toa_do = load_data('/content/drive/MyDrive/DATN/Quan_1_ToaDo.csv')\n",
        "\n",
        "print('Dataset Loaded')"
      ],
      "metadata": {
        "colab": {
          "base_uri": "https://localhost:8080/"
        },
        "id": "v87pFRBILgOw",
        "outputId": "e02938c4-bdb3-4e3b-c6e0-d034eb9f2363"
      },
      "execution_count": 4,
      "outputs": [
        {
          "output_type": "stream",
          "name": "stdout",
          "text": [
            "Dataset Loaded\n"
          ]
        }
      ]
    },
    {
      "cell_type": "code",
      "source": [
        "for sample_i in range(2):#len(ten_duong) - 1\n",
        "    print('Tên đường {}:  {}'.format(sample_i + 1, ten_duong[sample_i]))\n",
        "    print('Tọa độ {}:  {}'.format(sample_i + 1, toa_do[sample_i]))"
      ],
      "metadata": {
        "colab": {
          "base_uri": "https://localhost:8080/"
        },
        "id": "3i8zqwUsQlw8",
        "outputId": "d5785ace-a3a2-4181-b9fb-6a2b3b454656"
      },
      "execution_count": 5,
      "outputs": [
        {
          "output_type": "stream",
          "name": "stdout",
          "text": [
            "Tên đường 1:  ﻿Alexandre de Rhodes\n",
            "Tọa độ 1:  ﻿\"10.779634866903798, 106.69683645007238\"\n",
            "Tên đường 2:  Bà Lê Chân\n",
            "Tọa độ 2:  \"10.790615971684014, 106.68954129640592\"\n"
          ]
        }
      ]
    },
    {
      "cell_type": "code",
      "source": [
        "def tokenize(x):\n",
        "    \"\"\"\n",
        "    Tokenize x\n",
        "    :param x: List of sentences/strings to be tokenized\n",
        "    :return: Tuple of (tokenized x data, tokenizer used to tokenize x)\n",
        "    \"\"\"\n",
        "    # TODO: Implement\n",
        "    x_tk = Tokenizer()\n",
        "    x_tk.fit_on_texts(x)\n",
        " \n",
        "    return x_tk.texts_to_sequences(x), x_tk\n",
        "\n",
        "#tests.test_tokenize(tokenize)\n",
        " \n",
        "# Tokenize Example output\n",
        "text_sentences = [\n",
        "    'The quick brown fox jumps over the lazy dog .',\n",
        "    'By Jove , my quick study of lexicography won a prize .',\n",
        "    'This is a short sentence .']\n",
        "text_tokenized, text_tokenizer = tokenize(text_sentences)\n",
        "print(text_tokenizer.word_index)\n",
        "print()\n",
        "for sample_i, (sent, token_sent) in enumerate(zip(text_sentences, text_tokenized)):\n",
        "    print('Sequence {} in x'.format(sample_i + 1))\n",
        "    print('  Input:  {}'.format(sent))\n",
        "    print('  Output: {}'.format(token_sent))"
      ],
      "metadata": {
        "colab": {
          "base_uri": "https://localhost:8080/"
        },
        "id": "DqEdFJZXSkWH",
        "outputId": "e1a9c907-1116-4545-dfea-63a0a764a703"
      },
      "execution_count": 6,
      "outputs": [
        {
          "output_type": "stream",
          "name": "stdout",
          "text": [
            "{'the': 1, 'quick': 2, 'a': 3, 'brown': 4, 'fox': 5, 'jumps': 6, 'over': 7, 'lazy': 8, 'dog': 9, 'by': 10, 'jove': 11, 'my': 12, 'study': 13, 'of': 14, 'lexicography': 15, 'won': 16, 'prize': 17, 'this': 18, 'is': 19, 'short': 20, 'sentence': 21}\n",
            "\n",
            "Sequence 1 in x\n",
            "  Input:  The quick brown fox jumps over the lazy dog .\n",
            "  Output: [1, 2, 4, 5, 6, 7, 1, 8, 9]\n",
            "Sequence 2 in x\n",
            "  Input:  By Jove , my quick study of lexicography won a prize .\n",
            "  Output: [10, 11, 12, 2, 13, 14, 15, 16, 3, 17]\n",
            "Sequence 3 in x\n",
            "  Input:  This is a short sentence .\n",
            "  Output: [18, 19, 3, 20, 21]\n"
          ]
        }
      ]
    },
    {
      "cell_type": "code",
      "source": [
        "def pad(x, length=None):\n",
        "    \"\"\"\n",
        "    Pad x\n",
        "    :param x: List of sequences.\n",
        "    :param length: Length to pad the sequence to.  If None, use length of longest sequence in x.\n",
        "    :return: Padded numpy array of sequences\n",
        "    \"\"\"\n",
        "    # TODO: Implement\n",
        "    if length is None:\n",
        "        length = max([len(sentence) for sentence in x])\n",
        "    return pad_sequences(x, maxlen=length, padding='post', truncating='post')\n",
        "#tests.test_pad(pad)\n",
        " \n",
        "# Pad Tokenized output\n",
        "test_pad = pad(text_tokenized)\n",
        "for sample_i, (token_sent, pad_sent) in enumerate(zip(text_tokenized, test_pad)):\n",
        "    print('Sequence {} in x'.format(sample_i + 1))\n",
        "    print('  Input:  {}'.format(np.array(token_sent)))\n",
        "    print('  Output: {}'.format(pad_sent))"
      ],
      "metadata": {
        "colab": {
          "base_uri": "https://localhost:8080/"
        },
        "id": "FPQwMqL6VM8z",
        "outputId": "fce2d29c-3f3e-4809-c6c6-96609273f9c6"
      },
      "execution_count": 7,
      "outputs": [
        {
          "output_type": "stream",
          "name": "stdout",
          "text": [
            "Sequence 1 in x\n",
            "  Input:  [1 2 4 5 6 7 1 8 9]\n",
            "  Output: [1 2 4 5 6 7 1 8 9 0]\n",
            "Sequence 2 in x\n",
            "  Input:  [10 11 12  2 13 14 15 16  3 17]\n",
            "  Output: [10 11 12  2 13 14 15 16  3 17]\n",
            "Sequence 3 in x\n",
            "  Input:  [18 19  3 20 21]\n",
            "  Output: [18 19  3 20 21  0  0  0  0  0]\n"
          ]
        }
      ]
    },
    {
      "cell_type": "code",
      "source": [
        "def preprocess(x, y):\n",
        "    \"\"\"\n",
        "    Preprocess x and y\n",
        "    :param x: Feature List of sentences\n",
        "    :param y: Label List of sentences\n",
        "    :return: Tuple of (Preprocessed x, Preprocessed y, x tokenizer, y tokenizer)\n",
        "    \"\"\"\n",
        "    preprocess_x, x_tk = tokenize(x)\n",
        "    preprocess_y, y_tk = tokenize(y)\n",
        " \n",
        "    preprocess_x = pad(preprocess_x)\n",
        "    preprocess_y = pad(preprocess_y)\n",
        " \n",
        "    # Keras's sparse_categorical_crossentropy function requires the labels to be in 3 dimensions\n",
        "    preprocess_y = preprocess_y.reshape(*preprocess_y.shape, 1)\n",
        " \n",
        "    return preprocess_x, preprocess_y, x_tk, y_tk\n",
        " \n",
        "preproc_english_sentences, preproc_french_sentences, english_tokenizer, french_tokenizer =\\\n",
        "    preprocess(ten_duong, toa_do)\n",
        "     \n",
        "max_english_sequence_length = preproc_english_sentences.shape[1]\n",
        "max_french_sequence_length = preproc_french_sentences.shape[1]\n",
        "english_vocab_size = len(english_tokenizer.word_index)\n",
        "french_vocab_size = len(french_tokenizer.word_index)\n",
        " \n",
        "print('Data Preprocessed')\n",
        "print(\"Max English sentence length:\", max_english_sequence_length)\n",
        "print(\"Max French sentence length:\", max_french_sequence_length)\n",
        "print(\"English vocabulary size:\", english_vocab_size)\n",
        "print(\"French vocabulary size:\", french_vocab_size)"
      ],
      "metadata": {
        "colab": {
          "base_uri": "https://localhost:8080/"
        },
        "id": "6S-EHEXUVSUT",
        "outputId": "6546a75e-198c-4a91-831d-64b4286a9dd4"
      },
      "execution_count": 8,
      "outputs": [
        {
          "output_type": "stream",
          "name": "stdout",
          "text": [
            "Data Preprocessed\n",
            "Max English sentence length: 4\n",
            "Max French sentence length: 5\n",
            "English vocabulary size: 221\n",
            "French vocabulary size: 281\n"
          ]
        }
      ]
    },
    {
      "cell_type": "code",
      "source": [
        "def logits_to_text(logits, tokenizer):\n",
        "    \"\"\"\n",
        "    Turn logits from a neural network into text using the tokenizer\n",
        "    :param logits: Logits from a neural network\n",
        "    :param tokenizer: Keras Tokenizer fit on the labels\n",
        "    :return: String that represents the text of the logits\n",
        "    \"\"\"\n",
        "    index_to_words = {id: word for word, id in tokenizer.word_index.items()}\n",
        "    index_to_words[0] = '<PAD>'\n",
        " \n",
        "    return ' '.join([index_to_words[prediction] for prediction in np.argmax(logits, 1)])"
      ],
      "metadata": {
        "id": "Vpr0hyn-WSGf"
      },
      "execution_count": 9,
      "outputs": []
    },
    {
      "cell_type": "code",
      "source": [
        "french_vocab_size"
      ],
      "metadata": {
        "id": "--e8IgJl7YSu",
        "outputId": "c3148859-8962-439a-ba3e-ccb5996ce89d",
        "colab": {
          "base_uri": "https://localhost:8080/"
        }
      },
      "execution_count": 10,
      "outputs": [
        {
          "output_type": "execute_result",
          "data": {
            "text/plain": [
              "281"
            ]
          },
          "metadata": {},
          "execution_count": 10
        }
      ]
    },
    {
      "cell_type": "code",
      "source": [
        "from keras.layers import GRU, Input, Dense, TimeDistributed, Dropout, LSTM\n",
        "from keras.models import Model, Sequential\n",
        "from keras.layers import Activation\n",
        "from tensorflow.keras.optimizers import Adam\n",
        "from keras.losses import sparse_categorical_crossentropy\n",
        "def simple_model(input_shape, output_sequence_length, english_vocab_size, french_vocab_size):\n",
        "    \"\"\"\n",
        "    Build and train a basic RNN on x and y\n",
        "    :param input_shape: Tuple of input shape\n",
        "    :param output_sequence_length: Length of output sequence\n",
        "    :param english_vocab_size: Number of unique English words in the dataset\n",
        "    :param french_vocab_size: Number of unique French words in the dataset\n",
        "    :return: Keras model built, but not trained\n",
        "    \"\"\"\n",
        "    # TODO: Build the layers\n",
        "    learning_rate = 1e-3\n",
        "    model = Sequential()\n",
        "    model.add(GRU(128, input_shape=input_shape[1:], return_sequences=True))\n",
        "    model.add(Dropout(0.5))\n",
        "    model.add(GRU(128, return_sequences=True))\n",
        "    model.add(Dropout(0.5))\n",
        "    model.add(TimeDistributed(Dense(256, activation='relu')))\n",
        "    model.add(Dropout(0.5))\n",
        "    model.add(TimeDistributed(Dense(french_vocab_size+1, activation='softmax'))) \n",
        "     \n",
        "     \n",
        "    model.compile(loss=sparse_categorical_crossentropy,\n",
        "                  optimizer=Adam(learning_rate),\n",
        "                  metrics=['accuracy'])\n",
        "    return model\n",
        "#tests.test_simple_model(simple_model)\n",
        " \n",
        "# Reshaping the input to work with a basic RNN\n",
        "tmp_x = pad(preproc_english_sentences, max_french_sequence_length)\n",
        "tmp_x = tmp_x.reshape((-1, preproc_french_sentences.shape[-2], 1))\n",
        " \n",
        " \n",
        " \n",
        "# Train the neural network\n",
        "simple_rnn_model = simple_model(\n",
        "    tmp_x.shape,\n",
        "    max_french_sequence_length,\n",
        "    english_vocab_size,\n",
        "    french_vocab_size)\n",
        "simple_rnn_model.fit(tmp_x, preproc_french_sentences, batch_size=300, epochs=10, validation_split=0.2)\n",
        " \n",
        "# Print prediction(s)\n",
        "print(logits_to_text(simple_rnn_model.predict(tmp_x[:1])[0], french_tokenizer))"
      ],
      "metadata": {
        "colab": {
          "base_uri": "https://localhost:8080/"
        },
        "id": "NPVbiEgxWWQV",
        "outputId": "c1d0fe01-a82a-42a4-fe0d-15a9d524a6d6"
      },
      "execution_count": 11,
      "outputs": [
        {
          "output_type": "stream",
          "name": "stdout",
          "text": [
            "Epoch 1/10\n",
            "1/1 [==============================] - 6s 6s/step - loss: 5.6249 - accuracy: 0.0179 - val_loss: 5.4917 - val_accuracy: 0.2286\n",
            "Epoch 2/10\n",
            "1/1 [==============================] - 0s 95ms/step - loss: 5.5379 - accuracy: 0.0768 - val_loss: 5.3745 - val_accuracy: 0.2286\n",
            "Epoch 3/10\n",
            "1/1 [==============================] - 0s 90ms/step - loss: 5.4209 - accuracy: 0.1214 - val_loss: 5.2462 - val_accuracy: 0.2286\n",
            "Epoch 4/10\n",
            "1/1 [==============================] - 0s 94ms/step - loss: 5.3127 - accuracy: 0.1714 - val_loss: 5.0998 - val_accuracy: 0.2286\n",
            "Epoch 5/10\n",
            "1/1 [==============================] - 0s 87ms/step - loss: 5.1535 - accuracy: 0.2214 - val_loss: 4.9315 - val_accuracy: 0.2286\n",
            "Epoch 6/10\n",
            "1/1 [==============================] - 0s 109ms/step - loss: 4.9595 - accuracy: 0.2357 - val_loss: 4.7424 - val_accuracy: 0.2286\n",
            "Epoch 7/10\n",
            "1/1 [==============================] - 0s 93ms/step - loss: 4.8114 - accuracy: 0.2304 - val_loss: 4.5440 - val_accuracy: 0.2286\n",
            "Epoch 8/10\n",
            "1/1 [==============================] - 0s 90ms/step - loss: 4.6323 - accuracy: 0.2321 - val_loss: 4.3637 - val_accuracy: 0.2286\n",
            "Epoch 9/10\n",
            "1/1 [==============================] - 0s 92ms/step - loss: 4.4572 - accuracy: 0.2196 - val_loss: 4.2461 - val_accuracy: 0.2286\n",
            "Epoch 10/10\n",
            "1/1 [==============================] - 0s 99ms/step - loss: 4.3046 - accuracy: 0.2286 - val_loss: 4.2215 - val_accuracy: 0.2286\n",
            "106 <PAD> <PAD> <PAD> <PAD>\n"
          ]
        }
      ]
    },
    {
      "cell_type": "code",
      "source": [
        "simple_rnn_model.summary()"
      ],
      "metadata": {
        "id": "u3yL5Ss-4cZc",
        "outputId": "a2c85c81-6e66-44bf-ebf9-134ff54b496a",
        "colab": {
          "base_uri": "https://localhost:8080/"
        }
      },
      "execution_count": 12,
      "outputs": [
        {
          "output_type": "stream",
          "name": "stdout",
          "text": [
            "Model: \"sequential\"\n",
            "_________________________________________________________________\n",
            " Layer (type)                Output Shape              Param #   \n",
            "=================================================================\n",
            " gru (GRU)                   (None, 5, 128)            50304     \n",
            "                                                                 \n",
            " dropout (Dropout)           (None, 5, 128)            0         \n",
            "                                                                 \n",
            " gru_1 (GRU)                 (None, 5, 128)            99072     \n",
            "                                                                 \n",
            " dropout_1 (Dropout)         (None, 5, 128)            0         \n",
            "                                                                 \n",
            " time_distributed (TimeDistr  (None, 5, 256)           33024     \n",
            " ibuted)                                                         \n",
            "                                                                 \n",
            " dropout_2 (Dropout)         (None, 5, 256)            0         \n",
            "                                                                 \n",
            " time_distributed_1 (TimeDis  (None, 5, 282)           72474     \n",
            " tributed)                                                       \n",
            "                                                                 \n",
            "=================================================================\n",
            "Total params: 254,874\n",
            "Trainable params: 254,874\n",
            "Non-trainable params: 0\n",
            "_________________________________________________________________\n"
          ]
        }
      ]
    },
    {
      "cell_type": "code",
      "source": [
        "import os\n",
        "import glob\n",
        " \n",
        "if not os.path.exists(\"models\"):\n",
        "    os.makedirs(\"models\")\n",
        " \n",
        "from keras.models import load_model\n",
        "cache_dir = os.path.join(\"models\")\n",
        "model_file = \"rnn_model.h5\"\n",
        "simple_rnn_model.save(os.path.join(cache_dir, model_file))\n",
        " \n",
        "os.path.join(cache_dir, model_file)"
      ],
      "metadata": {
        "id": "yOzLiaLeMyec",
        "outputId": "5e7e50c0-8b0c-4a84-b3bf-8522a2a35054",
        "colab": {
          "base_uri": "https://localhost:8080/",
          "height": 36
        }
      },
      "execution_count": 13,
      "outputs": [
        {
          "output_type": "execute_result",
          "data": {
            "text/plain": [
              "'models/rnn_model.h5'"
            ],
            "application/vnd.google.colaboratory.intrinsic+json": {
              "type": "string"
            }
          },
          "metadata": {},
          "execution_count": 13
        }
      ]
    },
    {
      "cell_type": "code",
      "source": [
        "from keras.layers.embeddings import Embedding\n",
        "def embed_model(input_shape, output_sequence_length, english_vocab_size, french_vocab_size):\n",
        "    \"\"\"\n",
        "    Build and train a RNN model using word embedding on x and y\n",
        "    :param input_shape: Tuple of input shape\n",
        "    :param output_sequence_length: Length of output sequence\n",
        "    :param english_vocab_size: Number of unique English words in the dataset\n",
        "    :param french_vocab_size: Number of unique French words in the dataset\n",
        "    :return: Keras model built, but not trained\n",
        "    \"\"\"\n",
        "    # Implement\n",
        "    learning_rate= 0.001\n",
        "    model = Sequential()\n",
        "    model.add(Embedding(english_vocab_size, 100, input_length=input_shape[1], input_shape=input_shape[1:]))\n",
        "     \n",
        "    model.add(GRU(128, return_sequences=True))\n",
        "    model.add(Dropout(0.5))\n",
        "    model.add(GRU(128,  return_sequences=True))\n",
        "    model.add(Dropout(0.5))\n",
        "    model.add(TimeDistributed(Dense(256, activation='relu')))\n",
        "    model.add(Dropout(0.5))\n",
        "    model.add(TimeDistributed(Dense(french_vocab_size+1, activation='softmax'))) \n",
        "     \n",
        "    model.compile(loss=sparse_categorical_crossentropy,\n",
        "                  optimizer=Adam(learning_rate),\n",
        "                  metrics=['accuracy'])\n",
        "     \n",
        "  \n",
        "    return model\n",
        "#tests.test_embed_model(embed_model)\n",
        " \n",
        " \n",
        "#  Reshape the input\n",
        "tmp_x = pad(preproc_english_sentences, preproc_french_sentences.shape[1])\n",
        "tmp_x = tmp_x.reshape((-1, preproc_french_sentences.shape[-2]))\n",
        " \n",
        "#  Train the neural network\n",
        "embed_rnn_model = embed_model(\n",
        "    tmp_x.shape,\n",
        "    preproc_french_sentences.shape[1],\n",
        "    len(english_tokenizer.word_index)+1,\n",
        "    len(french_tokenizer.word_index)+1)"
      ],
      "metadata": {
        "id": "z0jjj1r8NgiC"
      },
      "execution_count": 14,
      "outputs": []
    },
    {
      "cell_type": "code",
      "source": [
        "embed_rnn_model.fit(tmp_x, preproc_french_sentences, batch_size=300, epochs=10, validation_split=0.2)"
      ],
      "metadata": {
        "id": "G1j7wEtrOAqO",
        "outputId": "54e550d4-8b68-44d6-91ed-2a6eeb5159a4",
        "colab": {
          "base_uri": "https://localhost:8080/"
        }
      },
      "execution_count": 15,
      "outputs": [
        {
          "output_type": "stream",
          "name": "stdout",
          "text": [
            "Epoch 1/10\n",
            "1/1 [==============================] - 6s 6s/step - loss: 5.6438 - accuracy: 0.0036 - val_loss: 5.6340 - val_accuracy: 0.3000\n",
            "Epoch 2/10\n",
            "1/1 [==============================] - 0s 95ms/step - loss: 5.6338 - accuracy: 0.1143 - val_loss: 5.6218 - val_accuracy: 0.2714\n",
            "Epoch 3/10\n",
            "1/1 [==============================] - 0s 89ms/step - loss: 5.6221 - accuracy: 0.2429 - val_loss: 5.6067 - val_accuracy: 0.2286\n",
            "Epoch 4/10\n",
            "1/1 [==============================] - 0s 91ms/step - loss: 5.6077 - accuracy: 0.2589 - val_loss: 5.5875 - val_accuracy: 0.2286\n",
            "Epoch 5/10\n",
            "1/1 [==============================] - 0s 101ms/step - loss: 5.5857 - accuracy: 0.2536 - val_loss: 5.5630 - val_accuracy: 0.2286\n",
            "Epoch 6/10\n",
            "1/1 [==============================] - 0s 87ms/step - loss: 5.5598 - accuracy: 0.2393 - val_loss: 5.5317 - val_accuracy: 0.2286\n",
            "Epoch 7/10\n",
            "1/1 [==============================] - 0s 92ms/step - loss: 5.5278 - accuracy: 0.2393 - val_loss: 5.4914 - val_accuracy: 0.2286\n",
            "Epoch 8/10\n",
            "1/1 [==============================] - 0s 86ms/step - loss: 5.4904 - accuracy: 0.2161 - val_loss: 5.4393 - val_accuracy: 0.2286\n",
            "Epoch 9/10\n",
            "1/1 [==============================] - 0s 95ms/step - loss: 5.4320 - accuracy: 0.2107 - val_loss: 5.3724 - val_accuracy: 0.2286\n",
            "Epoch 10/10\n",
            "1/1 [==============================] - 0s 88ms/step - loss: 5.3523 - accuracy: 0.2125 - val_loss: 5.2862 - val_accuracy: 0.2286\n"
          ]
        },
        {
          "output_type": "execute_result",
          "data": {
            "text/plain": [
              "<keras.callbacks.History at 0x7f2c7328e590>"
            ]
          },
          "metadata": {},
          "execution_count": 15
        }
      ]
    },
    {
      "cell_type": "code",
      "source": [
        "embed_rnn_model.summary()\n",
        "model_file = \"embed_model.h5\"\n",
        "embed_rnn_model.save(os.path.join(cache_dir, model_file))"
      ],
      "metadata": {
        "id": "L7-vkigSOK0N",
        "outputId": "64ee3f2f-073c-49c6-b3ae-035e0198d610",
        "colab": {
          "base_uri": "https://localhost:8080/"
        }
      },
      "execution_count": 16,
      "outputs": [
        {
          "output_type": "stream",
          "name": "stdout",
          "text": [
            "Model: \"sequential_1\"\n",
            "_________________________________________________________________\n",
            " Layer (type)                Output Shape              Param #   \n",
            "=================================================================\n",
            " embedding (Embedding)       (None, 5, 100)            22200     \n",
            "                                                                 \n",
            " gru_2 (GRU)                 (None, 5, 128)            88320     \n",
            "                                                                 \n",
            " dropout_3 (Dropout)         (None, 5, 128)            0         \n",
            "                                                                 \n",
            " gru_3 (GRU)                 (None, 5, 128)            99072     \n",
            "                                                                 \n",
            " dropout_4 (Dropout)         (None, 5, 128)            0         \n",
            "                                                                 \n",
            " time_distributed_2 (TimeDis  (None, 5, 256)           33024     \n",
            " tributed)                                                       \n",
            "                                                                 \n",
            " dropout_5 (Dropout)         (None, 5, 256)            0         \n",
            "                                                                 \n",
            " time_distributed_3 (TimeDis  (None, 5, 283)           72731     \n",
            " tributed)                                                       \n",
            "                                                                 \n",
            "=================================================================\n",
            "Total params: 315,347\n",
            "Trainable params: 315,347\n",
            "Non-trainable params: 0\n",
            "_________________________________________________________________\n"
          ]
        }
      ]
    },
    {
      "cell_type": "code",
      "source": [
        "print(ten_duong[:1])\n",
        "print(toa_do[:1])"
      ],
      "metadata": {
        "id": "_NGkVliKOblQ",
        "outputId": "a04b5172-003a-494c-802b-81ff4cd77aef",
        "colab": {
          "base_uri": "https://localhost:8080/"
        }
      },
      "execution_count": 17,
      "outputs": [
        {
          "output_type": "stream",
          "name": "stdout",
          "text": [
            "['\\ufeffAlexandre de Rhodes']\n",
            "['\\ufeff\"10.779634866903798, 106.69683645007238\"']\n"
          ]
        }
      ]
    },
    {
      "cell_type": "code",
      "source": [
        "print(logits_to_text(embed_rnn_model.predict(tmp_x[:1])[0], french_tokenizer))"
      ],
      "metadata": {
        "id": "Xo_wroqgOkET",
        "outputId": "474e8fd6-6f6d-46fd-ec97-894b6e86907c",
        "colab": {
          "base_uri": "https://localhost:8080/"
        }
      },
      "execution_count": 18,
      "outputs": [
        {
          "output_type": "stream",
          "name": "stdout",
          "text": [
            "<PAD> <PAD> <PAD> <PAD> <PAD>\n"
          ]
        }
      ]
    },
    {
      "cell_type": "code",
      "source": [
        "from keras.layers import Bidirectional\n",
        "def bd_model(input_shape, output_sequence_length, english_vocab_size, french_vocab_size):\n",
        "    \"\"\"\n",
        "    Build and train a bidirectional RNN model on x and y\n",
        "    :param input_shape: Tuple of input shape\n",
        "    :param output_sequence_length: Length of output sequence\n",
        "    :param english_vocab_size: Number of unique English words in the dataset\n",
        "    :param french_vocab_size: Number of unique French words in the dataset\n",
        "    :return: Keras model built, but not trained\n",
        "    \"\"\"\n",
        "     \n",
        "    learning_rate = 1e-3\n",
        "    model = Sequential()\n",
        "    model.add(Bidirectional(GRU(128, return_sequences=True), input_shape=input_shape[1:]))\n",
        "    model.add(Dropout(0.5))\n",
        "    model.add(Bidirectional(GRU(128, return_sequences=True)))\n",
        "    model.add(Dropout(0.5))\n",
        "    model.add(TimeDistributed(Dense(256, activation='relu')))\n",
        "    model.add(Dropout(0.5))\n",
        "    model.add(TimeDistributed(Dense(french_vocab_size, activation='softmax'))) \n",
        "     \n",
        "     \n",
        "    model.compile(loss=sparse_categorical_crossentropy,\n",
        "                  optimizer=Adam(learning_rate),\n",
        "                  metrics=['accuracy'])\n",
        "     \n",
        "     \n",
        "    return model\n",
        "     \n",
        "# tests.test_bd_model(bd_model)\n",
        " \n",
        " \n",
        "# Train and Print prediction(s)\n",
        "tmp_x = pad(preproc_english_sentences, preproc_french_sentences.shape[1])\n",
        "tmp_x = tmp_x.reshape((-1, preproc_french_sentences.shape[-2], 1))\n",
        " \n",
        "# Train and Print prediction(s)\n",
        "bd_rnn_model = bd_model(\n",
        "    tmp_x.shape,\n",
        "    preproc_french_sentences.shape[1],\n",
        "    len(english_tokenizer.word_index)+1,\n",
        "    len(french_tokenizer.word_index)+1)"
      ],
      "metadata": {
        "id": "tIvGQyFPw3K9"
      },
      "execution_count": 20,
      "outputs": []
    },
    {
      "cell_type": "code",
      "source": [
        "bd_rnn_model.fit(tmp_x, preproc_french_sentences, batch_size=300, epochs=10, validation_split=0.2)"
      ],
      "metadata": {
        "id": "wZ2qawtDw9ay",
        "outputId": "d89ab681-9f5a-4e58-fc9d-69c7b03bd44f",
        "colab": {
          "base_uri": "https://localhost:8080/"
        }
      },
      "execution_count": 21,
      "outputs": [
        {
          "output_type": "stream",
          "name": "stdout",
          "text": [
            "Epoch 1/10\n",
            "1/1 [==============================] - 10s 10s/step - loss: 5.6922 - accuracy: 0.0036 - val_loss: 5.3388 - val_accuracy: 0.4071\n",
            "Epoch 2/10\n",
            "1/1 [==============================] - 0s 142ms/step - loss: 5.4467 - accuracy: 0.0339 - val_loss: 5.0710 - val_accuracy: 0.5143\n",
            "Epoch 3/10\n",
            "1/1 [==============================] - 0s 128ms/step - loss: 5.1916 - accuracy: 0.2000 - val_loss: 4.7857 - val_accuracy: 0.5643\n",
            "Epoch 4/10\n",
            "1/1 [==============================] - 0s 131ms/step - loss: 4.9234 - accuracy: 0.3625 - val_loss: 4.4692 - val_accuracy: 0.5857\n",
            "Epoch 5/10\n",
            "1/1 [==============================] - 0s 125ms/step - loss: 4.6739 - accuracy: 0.4179 - val_loss: 4.1328 - val_accuracy: 0.5929\n",
            "Epoch 6/10\n",
            "1/1 [==============================] - 0s 128ms/step - loss: 4.3355 - accuracy: 0.4518 - val_loss: 3.8231 - val_accuracy: 0.5857\n",
            "Epoch 7/10\n",
            "1/1 [==============================] - 0s 133ms/step - loss: 4.0569 - accuracy: 0.4429 - val_loss: 3.6168 - val_accuracy: 0.5857\n",
            "Epoch 8/10\n",
            "1/1 [==============================] - 0s 134ms/step - loss: 3.7777 - accuracy: 0.4821 - val_loss: 3.5642 - val_accuracy: 0.5857\n",
            "Epoch 9/10\n",
            "1/1 [==============================] - 0s 124ms/step - loss: 3.6461 - accuracy: 0.4696 - val_loss: 3.6265 - val_accuracy: 0.5929\n",
            "Epoch 10/10\n",
            "1/1 [==============================] - 0s 125ms/step - loss: 3.5468 - accuracy: 0.5036 - val_loss: 3.7320 - val_accuracy: 0.5857\n"
          ]
        },
        {
          "output_type": "execute_result",
          "data": {
            "text/plain": [
              "<keras.callbacks.History at 0x7f2c70eec590>"
            ]
          },
          "metadata": {},
          "execution_count": 21
        }
      ]
    },
    {
      "cell_type": "code",
      "source": [
        "bd_rnn_model.summary()\n",
        "model_file = \"bd_rnn_model.h5\"\n",
        "bd_rnn_model.save(os.path.join(cache_dir, model_file))"
      ],
      "metadata": {
        "id": "5j4uqW_7xDOw",
        "outputId": "9e88d350-4afa-4fbe-be1c-86aa16e51f15",
        "colab": {
          "base_uri": "https://localhost:8080/"
        }
      },
      "execution_count": 22,
      "outputs": [
        {
          "output_type": "stream",
          "name": "stdout",
          "text": [
            "Model: \"sequential_2\"\n",
            "_________________________________________________________________\n",
            " Layer (type)                Output Shape              Param #   \n",
            "=================================================================\n",
            " bidirectional (Bidirectiona  (None, 5, 256)           100608    \n",
            " l)                                                              \n",
            "                                                                 \n",
            " dropout_6 (Dropout)         (None, 5, 256)            0         \n",
            "                                                                 \n",
            " bidirectional_1 (Bidirectio  (None, 5, 256)           296448    \n",
            " nal)                                                            \n",
            "                                                                 \n",
            " dropout_7 (Dropout)         (None, 5, 256)            0         \n",
            "                                                                 \n",
            " time_distributed_4 (TimeDis  (None, 5, 256)           65792     \n",
            " tributed)                                                       \n",
            "                                                                 \n",
            " dropout_8 (Dropout)         (None, 5, 256)            0         \n",
            "                                                                 \n",
            " time_distributed_5 (TimeDis  (None, 5, 282)           72474     \n",
            " tributed)                                                       \n",
            "                                                                 \n",
            "=================================================================\n",
            "Total params: 535,322\n",
            "Trainable params: 535,322\n",
            "Non-trainable params: 0\n",
            "_________________________________________________________________\n"
          ]
        }
      ]
    },
    {
      "cell_type": "code",
      "source": [
        "from keras.layers import RepeatVector\n",
        "def encdec_model(input_shape, output_sequence_length, english_vocab_size, french_vocab_size):\n",
        "    \"\"\"\n",
        "    Build and train an encoder-decoder model on x and y\n",
        "    :param input_shape: Tuple of input shape\n",
        "    :param output_sequence_length: Length of output sequence\n",
        "    :param english_vocab_size: Number of unique English words in the dataset\n",
        "    :param french_vocab_size: Number of unique French words in the dataset\n",
        "    :return: Keras model built, but not trained\n",
        "    \"\"\"\n",
        "    learning_rate = 1e-3\n",
        "    model = Sequential()\n",
        "     \n",
        "    #Encoder\n",
        "    inputs = Input(shape=input_shape[1:])\n",
        "    gru = GRU(output_sequence_length)(inputs)\n",
        "    e_out = Dense(128, activation='relu')(gru)\n",
        "     \n",
        "    #Decoder\n",
        "    d_input = RepeatVector(output_sequence_length)(e_out)\n",
        "    d_gru = GRU(128, return_sequences=True)(d_input)\n",
        "    layer = TimeDistributed(Dense(french_vocab_size, activation='softmax'))\n",
        "    final = layer(d_gru)\n",
        " \n",
        "    #Create Model from parameters defined above\n",
        "    model = Model(inputs=inputs, outputs=final)\n",
        "    model.compile(loss=sparse_categorical_crossentropy,\n",
        "                  optimizer=Adam(learning_rate),\n",
        "                  metrics=['accuracy'])\n",
        "     \n",
        "     \n",
        "    return model\n",
        "     \n",
        "     \n",
        "     \n",
        "# tests.test_encdec_model(encdec_model)\n",
        " \n",
        "# Train and Print prediction(s)\n",
        "tmp_x = pad(preproc_english_sentences, preproc_french_sentences.shape[1])\n",
        "tmp_x = tmp_x.reshape((-1, preproc_french_sentences.shape[-2], 1))\n",
        " \n",
        "# Train and Print prediction(s)\n",
        "ed_rnn_model = encdec_model(\n",
        "    tmp_x.shape,\n",
        "    preproc_french_sentences.shape[1],\n",
        "    len(english_tokenizer.word_index)+1,\n",
        "    len(french_tokenizer.word_index)+1)\n",
        " \n",
        "ed_rnn_model.fit(tmp_x, preproc_french_sentences, batch_size=300, epochs=10, validation_split=0.2)"
      ],
      "metadata": {
        "id": "Yy7wMrQhxY_9",
        "outputId": "67acbaad-3f46-4c16-f32c-c7fc1360f468",
        "colab": {
          "base_uri": "https://localhost:8080/"
        }
      },
      "execution_count": 24,
      "outputs": [
        {
          "output_type": "stream",
          "name": "stdout",
          "text": [
            "Epoch 1/10\n",
            "1/1 [==============================] - 7s 7s/step - loss: 5.6303 - accuracy: 0.0036 - val_loss: 5.6072 - val_accuracy: 0.0643\n",
            "Epoch 2/10\n",
            "1/1 [==============================] - 0s 70ms/step - loss: 5.6103 - accuracy: 0.0643 - val_loss: 5.5865 - val_accuracy: 0.2214\n",
            "Epoch 3/10\n",
            "1/1 [==============================] - 0s 69ms/step - loss: 5.5898 - accuracy: 0.2036 - val_loss: 5.5647 - val_accuracy: 0.4214\n",
            "Epoch 4/10\n",
            "1/1 [==============================] - 0s 82ms/step - loss: 5.5683 - accuracy: 0.3839 - val_loss: 5.5410 - val_accuracy: 0.3857\n",
            "Epoch 5/10\n",
            "1/1 [==============================] - 0s 65ms/step - loss: 5.5450 - accuracy: 0.3357 - val_loss: 5.5148 - val_accuracy: 0.2286\n",
            "Epoch 6/10\n",
            "1/1 [==============================] - 0s 89ms/step - loss: 5.5191 - accuracy: 0.2018 - val_loss: 5.4851 - val_accuracy: 0.2286\n",
            "Epoch 7/10\n",
            "1/1 [==============================] - 0s 69ms/step - loss: 5.4900 - accuracy: 0.1982 - val_loss: 5.4513 - val_accuracy: 0.2286\n",
            "Epoch 8/10\n",
            "1/1 [==============================] - 0s 70ms/step - loss: 5.4568 - accuracy: 0.1982 - val_loss: 5.4124 - val_accuracy: 0.2286\n",
            "Epoch 9/10\n",
            "1/1 [==============================] - 0s 76ms/step - loss: 5.4186 - accuracy: 0.1982 - val_loss: 5.3673 - val_accuracy: 0.2286\n",
            "Epoch 10/10\n",
            "1/1 [==============================] - 0s 70ms/step - loss: 5.3741 - accuracy: 0.1982 - val_loss: 5.3148 - val_accuracy: 0.2286\n"
          ]
        },
        {
          "output_type": "execute_result",
          "data": {
            "text/plain": [
              "<keras.callbacks.History at 0x7f2c76dd2d90>"
            ]
          },
          "metadata": {},
          "execution_count": 24
        }
      ]
    },
    {
      "cell_type": "code",
      "source": [
        "def model_final(input_shape, output_sequence_length, english_vocab_size, french_vocab_size):\n",
        "    \"\"\"\n",
        "    Build and train a RNN model using word embedding on x and y\n",
        "    :param input_shape: Tuple of input shape\n",
        "    :param output_sequence_length: Length of output sequence\n",
        "    :param english_vocab_size: Number of unique English words in the dataset\n",
        "    :param french_vocab_size: Number of unique French words in the dataset\n",
        "    :return: Keras model built, but not trained\n",
        "    \"\"\"\n",
        "    # Implement\n",
        "    learning_rate = 0.001\n",
        "    inputs = Input(shape=input_shape[1:])\n",
        "    emb = Embedding(english_vocab_size, 100)(inputs)\n",
        "    gru = Bidirectional(GRU(128, dropout=0.5))(emb)\n",
        "    final_enc = Dense(256, activation='relu')(gru)\n",
        "     \n",
        "    dec1 = RepeatVector(output_sequence_length)(final_enc)\n",
        "    decgru = Bidirectional(LSTM(512, dropout=0.2, return_sequences=True))(dec1)\n",
        "    layer = TimeDistributed(Dense(french_vocab_size, activation='softmax'))\n",
        "    final = layer(decgru)\n",
        "     \n",
        "     \n",
        "    model = Model(inputs=inputs, outputs=final)\n",
        "    model.compile(loss=sparse_categorical_crossentropy,\n",
        "                  optimizer=Adam(learning_rate),\n",
        "                  metrics=['accuracy'])\n",
        "    return model\n",
        "     \n",
        "  \n",
        "    return model\n",
        "#tests.test_model_final(model_final)"
      ],
      "metadata": {
        "id": "UyLKoE-ZxdzV"
      },
      "execution_count": 25,
      "outputs": []
    },
    {
      "cell_type": "code",
      "source": [
        "def final_predictions(x, y, x_tk, y_tk):\n",
        "    \"\"\"\n",
        "    Gets predictions using the final model\n",
        "    :param x: Preprocessed English data\n",
        "    :param y: Preprocessed French data\n",
        "    :param x_tk: English tokenizer\n",
        "    :param y_tk: French tokenizer\n",
        "    \"\"\"\n",
        "    # TODO: Train neural network using model_final\n",
        "    model = model_final(\n",
        "        x.shape,\n",
        "        y.shape[1],\n",
        "        len(x_tk.word_index)+1,\n",
        "        len(y_tk.word_index)+1)\n",
        "    print (model.summary())\n",
        "    model.fit(x, y, batch_size=300, epochs=30, validation_split=0.2)\n",
        " \n",
        "     \n",
        "     \n",
        "    y_id_to_word = {value: key for key, value in y_tk.word_index.items()}\n",
        "    y_id_to_word[0] = '<PAD>'\n",
        " \n",
        "    sentence = 'Alexandre de Rhodes'\n",
        "    sentence = [x_tk.word_index[word] for word in sentence.split(' ')]\n",
        "    sentence = pad_sequences([sentence], maxlen=x.shape[-1], padding='post')\n",
        "    sentences = np.array([sentence[0], x[0]])\n",
        "    predictions = model.predict(sentences, len(sentences))\n",
        " \n",
        "    print('Sample 1:')\n",
        "    print(' '.join([y_id_to_word[np.argmax(x)] for x in predictions[0]]))\n",
        "    print('Il a vu un vieux camion jaune')\n",
        "    print('Sample 2:')\n",
        "    print(' '.join([y_id_to_word[np.argmax(x)] for x in predictions[1]]))\n",
        "    print(' '.join([y_id_to_word[np.max(x)] for x in y[0]]))\n",
        " \n",
        " \n",
        "final_predictions(preproc_english_sentences, preproc_french_sentences, english_tokenizer, french_tokenizer)"
      ],
      "metadata": {
        "id": "uk6flcH2xisa",
        "outputId": "adbb98a4-0892-40af-a5b3-883e8442fed8",
        "colab": {
          "base_uri": "https://localhost:8080/",
          "height": 1000
        }
      },
      "execution_count": 32,
      "outputs": [
        {
          "output_type": "stream",
          "name": "stdout",
          "text": [
            "Model: \"model_7\"\n",
            "_________________________________________________________________\n",
            " Layer (type)                Output Shape              Param #   \n",
            "=================================================================\n",
            " input_8 (InputLayer)        [(None, 4)]               0         \n",
            "                                                                 \n",
            " embedding_7 (Embedding)     (None, 4, 100)            22200     \n",
            "                                                                 \n",
            " bidirectional_14 (Bidirecti  (None, 256)              176640    \n",
            " onal)                                                           \n",
            "                                                                 \n",
            " dense_20 (Dense)            (None, 256)               65792     \n",
            "                                                                 \n",
            " repeat_vector_7 (RepeatVect  (None, 5, 256)           0         \n",
            " or)                                                             \n",
            "                                                                 \n",
            " bidirectional_15 (Bidirecti  (None, 5, 1024)          3149824   \n",
            " onal)                                                           \n",
            "                                                                 \n",
            " time_distributed_13 (TimeDi  (None, 5, 282)           289050    \n",
            " stributed)                                                      \n",
            "                                                                 \n",
            "=================================================================\n",
            "Total params: 3,703,506\n",
            "Trainable params: 3,703,506\n",
            "Non-trainable params: 0\n",
            "_________________________________________________________________\n",
            "None\n",
            "Epoch 1/30\n",
            "1/1 [==============================] - 11s 11s/step - loss: 5.6412 - accuracy: 0.0071 - val_loss: 5.6189 - val_accuracy: 0.4071\n",
            "Epoch 2/30\n",
            "1/1 [==============================] - 0s 420ms/step - loss: 5.6146 - accuracy: 0.4054 - val_loss: 5.5840 - val_accuracy: 0.4143\n",
            "Epoch 3/30\n",
            "1/1 [==============================] - 0s 421ms/step - loss: 5.5738 - accuracy: 0.4125 - val_loss: 5.5224 - val_accuracy: 0.4000\n",
            "Epoch 4/30\n",
            "1/1 [==============================] - 0s 413ms/step - loss: 5.5049 - accuracy: 0.4000 - val_loss: 5.4129 - val_accuracy: 0.4000\n",
            "Epoch 5/30\n",
            "1/1 [==============================] - 0s 457ms/step - loss: 5.3791 - accuracy: 0.3982 - val_loss: 5.2193 - val_accuracy: 0.4000\n",
            "Epoch 6/30\n",
            "1/1 [==============================] - 0s 420ms/step - loss: 5.1602 - accuracy: 0.3982 - val_loss: 4.8796 - val_accuracy: 0.4000\n",
            "Epoch 7/30\n",
            "1/1 [==============================] - 1s 699ms/step - loss: 4.7778 - accuracy: 0.3982 - val_loss: 4.2975 - val_accuracy: 0.4000\n",
            "Epoch 8/30\n",
            "1/1 [==============================] - 1s 1s/step - loss: 4.1505 - accuracy: 0.3982 - val_loss: 3.4752 - val_accuracy: 0.4000\n",
            "Epoch 9/30\n",
            "1/1 [==============================] - 1s 767ms/step - loss: 3.3226 - accuracy: 0.3982 - val_loss: 3.2550 - val_accuracy: 0.4000\n",
            "Epoch 10/30\n",
            "1/1 [==============================] - 1s 783ms/step - loss: 3.3150 - accuracy: 0.3982 - val_loss: 3.5664 - val_accuracy: 0.5929\n",
            "Epoch 11/30\n",
            "1/1 [==============================] - 0s 452ms/step - loss: 3.6249 - accuracy: 0.5964 - val_loss: 3.5588 - val_accuracy: 0.5929\n",
            "Epoch 12/30\n",
            "1/1 [==============================] - 0s 429ms/step - loss: 3.4846 - accuracy: 0.5964 - val_loss: 3.4164 - val_accuracy: 0.5929\n",
            "Epoch 13/30\n",
            "1/1 [==============================] - 0s 443ms/step - loss: 3.1983 - accuracy: 0.5964 - val_loss: 3.3291 - val_accuracy: 0.5857\n",
            "Epoch 14/30\n",
            "1/1 [==============================] - 0s 441ms/step - loss: 2.9740 - accuracy: 0.5964 - val_loss: 3.3903 - val_accuracy: 0.5857\n",
            "Epoch 15/30\n",
            "1/1 [==============================] - 0s 457ms/step - loss: 2.9294 - accuracy: 0.5964 - val_loss: 3.5298 - val_accuracy: 0.5857\n",
            "Epoch 16/30\n",
            "1/1 [==============================] - 0s 445ms/step - loss: 2.9932 - accuracy: 0.5964 - val_loss: 3.6257 - val_accuracy: 0.5857\n",
            "Epoch 17/30\n",
            "1/1 [==============================] - 0s 438ms/step - loss: 3.0255 - accuracy: 0.5964 - val_loss: 3.6401 - val_accuracy: 0.5857\n",
            "Epoch 18/30\n",
            "1/1 [==============================] - 0s 432ms/step - loss: 2.9887 - accuracy: 0.5964 - val_loss: 3.5985 - val_accuracy: 0.5929\n",
            "Epoch 19/30\n",
            "1/1 [==============================] - 0s 418ms/step - loss: 2.8669 - accuracy: 0.5946 - val_loss: 3.5606 - val_accuracy: 0.5929\n",
            "Epoch 20/30\n",
            "1/1 [==============================] - 0s 423ms/step - loss: 2.7271 - accuracy: 0.5964 - val_loss: 3.5904 - val_accuracy: 0.5929\n",
            "Epoch 21/30\n",
            "1/1 [==============================] - 0s 443ms/step - loss: 2.6446 - accuracy: 0.5964 - val_loss: 3.7050 - val_accuracy: 0.5929\n",
            "Epoch 22/30\n",
            "1/1 [==============================] - 0s 409ms/step - loss: 2.6280 - accuracy: 0.5964 - val_loss: 3.8611 - val_accuracy: 0.5929\n",
            "Epoch 23/30\n",
            "1/1 [==============================] - 0s 445ms/step - loss: 2.6497 - accuracy: 0.5964 - val_loss: 3.9930 - val_accuracy: 0.5929\n",
            "Epoch 24/30\n",
            "1/1 [==============================] - 0s 466ms/step - loss: 2.6515 - accuracy: 0.5964 - val_loss: 4.0669 - val_accuracy: 0.5929\n",
            "Epoch 25/30\n",
            "1/1 [==============================] - 0s 445ms/step - loss: 2.6094 - accuracy: 0.5964 - val_loss: 4.0916 - val_accuracy: 0.5929\n",
            "Epoch 26/30\n",
            "1/1 [==============================] - 0s 440ms/step - loss: 2.5365 - accuracy: 0.5964 - val_loss: 4.0991 - val_accuracy: 0.5929\n",
            "Epoch 27/30\n",
            "1/1 [==============================] - 0s 463ms/step - loss: 2.4660 - accuracy: 0.5964 - val_loss: 4.1181 - val_accuracy: 0.5857\n",
            "Epoch 28/30\n",
            "1/1 [==============================] - 0s 448ms/step - loss: 2.4242 - accuracy: 0.5982 - val_loss: 4.1591 - val_accuracy: 0.5857\n",
            "Epoch 29/30\n",
            "1/1 [==============================] - 0s 440ms/step - loss: 2.4068 - accuracy: 0.5982 - val_loss: 4.2172 - val_accuracy: 0.5857\n",
            "Epoch 30/30\n",
            "1/1 [==============================] - 0s 432ms/step - loss: 2.4010 - accuracy: 0.5964 - val_loss: 4.2832 - val_accuracy: 0.5857\n"
          ]
        },
        {
          "output_type": "error",
          "ename": "KeyError",
          "evalue": "ignored",
          "traceback": [
            "\u001b[0;31m---------------------------------------------------------------------------\u001b[0m",
            "\u001b[0;31mKeyError\u001b[0m                                  Traceback (most recent call last)",
            "\u001b[0;32m<ipython-input-32-0dbec1a672fb>\u001b[0m in \u001b[0;36m<module>\u001b[0;34m\u001b[0m\n\u001b[1;32m     35\u001b[0m \u001b[0;34m\u001b[0m\u001b[0m\n\u001b[1;32m     36\u001b[0m \u001b[0;34m\u001b[0m\u001b[0m\n\u001b[0;32m---> 37\u001b[0;31m \u001b[0mfinal_predictions\u001b[0m\u001b[0;34m(\u001b[0m\u001b[0mpreproc_english_sentences\u001b[0m\u001b[0;34m,\u001b[0m \u001b[0mpreproc_french_sentences\u001b[0m\u001b[0;34m,\u001b[0m \u001b[0menglish_tokenizer\u001b[0m\u001b[0;34m,\u001b[0m \u001b[0mfrench_tokenizer\u001b[0m\u001b[0;34m)\u001b[0m\u001b[0;34m\u001b[0m\u001b[0;34m\u001b[0m\u001b[0m\n\u001b[0m",
            "\u001b[0;32m<ipython-input-32-0dbec1a672fb>\u001b[0m in \u001b[0;36mfinal_predictions\u001b[0;34m(x, y, x_tk, y_tk)\u001b[0m\n\u001b[1;32m     22\u001b[0m \u001b[0;34m\u001b[0m\u001b[0m\n\u001b[1;32m     23\u001b[0m     \u001b[0msentence\u001b[0m \u001b[0;34m=\u001b[0m \u001b[0;34m'Alexandre de Rhodes'\u001b[0m\u001b[0;34m\u001b[0m\u001b[0;34m\u001b[0m\u001b[0m\n\u001b[0;32m---> 24\u001b[0;31m     \u001b[0msentence\u001b[0m \u001b[0;34m=\u001b[0m \u001b[0;34m[\u001b[0m\u001b[0mx_tk\u001b[0m\u001b[0;34m.\u001b[0m\u001b[0mword_index\u001b[0m\u001b[0;34m[\u001b[0m\u001b[0mword\u001b[0m\u001b[0;34m]\u001b[0m \u001b[0;32mfor\u001b[0m \u001b[0mword\u001b[0m \u001b[0;32min\u001b[0m \u001b[0msentence\u001b[0m\u001b[0;34m.\u001b[0m\u001b[0msplit\u001b[0m\u001b[0;34m(\u001b[0m\u001b[0;34m' '\u001b[0m\u001b[0;34m)\u001b[0m\u001b[0;34m]\u001b[0m\u001b[0;34m\u001b[0m\u001b[0;34m\u001b[0m\u001b[0m\n\u001b[0m\u001b[1;32m     25\u001b[0m     \u001b[0msentence\u001b[0m \u001b[0;34m=\u001b[0m \u001b[0mpad_sequences\u001b[0m\u001b[0;34m(\u001b[0m\u001b[0;34m[\u001b[0m\u001b[0msentence\u001b[0m\u001b[0;34m]\u001b[0m\u001b[0;34m,\u001b[0m \u001b[0mmaxlen\u001b[0m\u001b[0;34m=\u001b[0m\u001b[0mx\u001b[0m\u001b[0;34m.\u001b[0m\u001b[0mshape\u001b[0m\u001b[0;34m[\u001b[0m\u001b[0;34m-\u001b[0m\u001b[0;36m1\u001b[0m\u001b[0;34m]\u001b[0m\u001b[0;34m,\u001b[0m \u001b[0mpadding\u001b[0m\u001b[0;34m=\u001b[0m\u001b[0;34m'post'\u001b[0m\u001b[0;34m)\u001b[0m\u001b[0;34m\u001b[0m\u001b[0;34m\u001b[0m\u001b[0m\n\u001b[1;32m     26\u001b[0m     \u001b[0msentences\u001b[0m \u001b[0;34m=\u001b[0m \u001b[0mnp\u001b[0m\u001b[0;34m.\u001b[0m\u001b[0marray\u001b[0m\u001b[0;34m(\u001b[0m\u001b[0;34m[\u001b[0m\u001b[0msentence\u001b[0m\u001b[0;34m[\u001b[0m\u001b[0;36m0\u001b[0m\u001b[0;34m]\u001b[0m\u001b[0;34m,\u001b[0m \u001b[0mx\u001b[0m\u001b[0;34m[\u001b[0m\u001b[0;36m0\u001b[0m\u001b[0;34m]\u001b[0m\u001b[0;34m]\u001b[0m\u001b[0;34m)\u001b[0m\u001b[0;34m\u001b[0m\u001b[0;34m\u001b[0m\u001b[0m\n",
            "\u001b[0;32m<ipython-input-32-0dbec1a672fb>\u001b[0m in \u001b[0;36m<listcomp>\u001b[0;34m(.0)\u001b[0m\n\u001b[1;32m     22\u001b[0m \u001b[0;34m\u001b[0m\u001b[0m\n\u001b[1;32m     23\u001b[0m     \u001b[0msentence\u001b[0m \u001b[0;34m=\u001b[0m \u001b[0;34m'Alexandre de Rhodes'\u001b[0m\u001b[0;34m\u001b[0m\u001b[0;34m\u001b[0m\u001b[0m\n\u001b[0;32m---> 24\u001b[0;31m     \u001b[0msentence\u001b[0m \u001b[0;34m=\u001b[0m \u001b[0;34m[\u001b[0m\u001b[0mx_tk\u001b[0m\u001b[0;34m.\u001b[0m\u001b[0mword_index\u001b[0m\u001b[0;34m[\u001b[0m\u001b[0mword\u001b[0m\u001b[0;34m]\u001b[0m \u001b[0;32mfor\u001b[0m \u001b[0mword\u001b[0m \u001b[0;32min\u001b[0m \u001b[0msentence\u001b[0m\u001b[0;34m.\u001b[0m\u001b[0msplit\u001b[0m\u001b[0;34m(\u001b[0m\u001b[0;34m' '\u001b[0m\u001b[0;34m)\u001b[0m\u001b[0;34m]\u001b[0m\u001b[0;34m\u001b[0m\u001b[0;34m\u001b[0m\u001b[0m\n\u001b[0m\u001b[1;32m     25\u001b[0m     \u001b[0msentence\u001b[0m \u001b[0;34m=\u001b[0m \u001b[0mpad_sequences\u001b[0m\u001b[0;34m(\u001b[0m\u001b[0;34m[\u001b[0m\u001b[0msentence\u001b[0m\u001b[0;34m]\u001b[0m\u001b[0;34m,\u001b[0m \u001b[0mmaxlen\u001b[0m\u001b[0;34m=\u001b[0m\u001b[0mx\u001b[0m\u001b[0;34m.\u001b[0m\u001b[0mshape\u001b[0m\u001b[0;34m[\u001b[0m\u001b[0;34m-\u001b[0m\u001b[0;36m1\u001b[0m\u001b[0;34m]\u001b[0m\u001b[0;34m,\u001b[0m \u001b[0mpadding\u001b[0m\u001b[0;34m=\u001b[0m\u001b[0;34m'post'\u001b[0m\u001b[0;34m)\u001b[0m\u001b[0;34m\u001b[0m\u001b[0;34m\u001b[0m\u001b[0m\n\u001b[1;32m     26\u001b[0m     \u001b[0msentences\u001b[0m \u001b[0;34m=\u001b[0m \u001b[0mnp\u001b[0m\u001b[0;34m.\u001b[0m\u001b[0marray\u001b[0m\u001b[0;34m(\u001b[0m\u001b[0;34m[\u001b[0m\u001b[0msentence\u001b[0m\u001b[0;34m[\u001b[0m\u001b[0;36m0\u001b[0m\u001b[0;34m]\u001b[0m\u001b[0;34m,\u001b[0m \u001b[0mx\u001b[0m\u001b[0;34m[\u001b[0m\u001b[0;36m0\u001b[0m\u001b[0;34m]\u001b[0m\u001b[0;34m]\u001b[0m\u001b[0;34m)\u001b[0m\u001b[0;34m\u001b[0m\u001b[0;34m\u001b[0m\u001b[0m\n",
            "\u001b[0;31mKeyError\u001b[0m: 'Alexandre'"
          ]
        }
      ]
    }
  ]
}