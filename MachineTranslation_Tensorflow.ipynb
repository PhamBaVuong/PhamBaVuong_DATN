{
  "nbformat": 4,
  "nbformat_minor": 0,
  "metadata": {
    "colab": {
      "name": "MachineTranslation-Tensorflow.ipynb",
      "provenance": [],
      "collapsed_sections": [],
      "authorship_tag": "ABX9TyN4DupABE4C6xUHDdPNjJgb",
      "include_colab_link": true
    },
    "kernelspec": {
      "name": "python3",
      "display_name": "Python 3"
    },
    "language_info": {
      "name": "python"
    }
  },
  "cells": [
    {
      "cell_type": "markdown",
      "metadata": {
        "id": "view-in-github",
        "colab_type": "text"
      },
      "source": [
        "<a href=\"https://colab.research.google.com/github/PhamBaVuong/PhamBaVuong_DATN/blob/main/MachineTranslation_Tensorflow.ipynb\" target=\"_parent\"><img src=\"https://colab.research.google.com/assets/colab-badge.svg\" alt=\"Open In Colab\"/></a>"
      ]
    },
    {
      "cell_type": "code",
      "source": [
        "from google.colab import drive\n",
        "drive.mount('/content/drive')"
      ],
      "metadata": {
        "colab": {
          "base_uri": "https://localhost:8080/"
        },
        "id": "vTNbi8DDPRPr",
        "outputId": "5b6fa4b0-f9f4-4f90-8479-380c0b4dffb8"
      },
      "execution_count": 1,
      "outputs": [
        {
          "output_type": "stream",
          "name": "stdout",
          "text": [
            "Mounted at /content/drive\n"
          ]
        }
      ]
    },
    {
      "cell_type": "code",
      "source": [
        "!wget -c https://raw.githubusercontent.com/udacity/deep-learning-v2-pytorch/master/intro-to-pytorch/helper.py"
      ],
      "metadata": {
        "colab": {
          "base_uri": "https://localhost:8080/"
        },
        "id": "p9PLvcdvN446",
        "outputId": "7c613b73-3b16-425d-9661-64eb882d0d39"
      },
      "execution_count": null,
      "outputs": [
        {
          "output_type": "stream",
          "name": "stdout",
          "text": [
            "--2022-08-25 04:16:53--  https://raw.githubusercontent.com/udacity/deep-learning-v2-pytorch/master/intro-to-pytorch/helper.py\n",
            "Resolving raw.githubusercontent.com (raw.githubusercontent.com)... 185.199.108.133, 185.199.109.133, 185.199.110.133, ...\n",
            "Connecting to raw.githubusercontent.com (raw.githubusercontent.com)|185.199.108.133|:443... connected.\n",
            "HTTP request sent, awaiting response... 200 OK\n",
            "Length: 2813 (2.7K) [text/plain]\n",
            "Saving to: ‘helper.py’\n",
            "\n",
            "\rhelper.py             0%[                    ]       0  --.-KB/s               \rhelper.py           100%[===================>]   2.75K  --.-KB/s    in 0s      \n",
            "\n",
            "2022-08-25 04:16:53 (57.7 MB/s) - ‘helper.py’ saved [2813/2813]\n",
            "\n"
          ]
        }
      ]
    },
    {
      "cell_type": "code",
      "execution_count": 2,
      "metadata": {
        "id": "rPBuKLHuKfY2"
      },
      "outputs": [],
      "source": [
        "import collections\n",
        "\n",
        "import helper\n",
        "import numpy as np\n",
        "\n",
        "\n",
        "from keras.preprocessing.text import Tokenizer\n",
        "from keras.preprocessing.sequence import pad_sequences\n",
        "from keras.models import Model\n",
        "from keras.layers import GRU, Input, Dense, TimeDistributed, Activation, RepeatVector, Bidirectional\n",
        "from keras.layers.embeddings import Embedding\n",
        "from tensorflow.keras.optimizers import Adam\n",
        "from keras.losses import sparse_categorical_crossentropy"
      ]
    },
    {
      "cell_type": "code",
      "source": [
        "import os\n",
        "\n",
        "\n",
        "def load_data(path):\n",
        "    \"\"\"\n",
        "    Load dataset\n",
        "    \"\"\"\n",
        "    input_file = os.path.join(path)\n",
        "    with open(input_file, \"r\") as f:\n",
        "        data = f.read()\n",
        " \n",
        "    return data.split('\\n')"
      ],
      "metadata": {
        "id": "dFT0D4fLLeZU"
      },
      "execution_count": 3,
      "outputs": []
    },
    {
      "cell_type": "code",
      "source": [
        "# Load tên đường\n",
        "ten_duong = load_data('/content/drive/MyDrive/DATN/Quan_1_TenDuong.csv')\n",
        "# Load Tọa độ\n",
        "toa_do = load_data('/content/drive/MyDrive/DATN/Quan_1_ToaDo.csv')\n",
        "\n",
        "print('Dataset Loaded')"
      ],
      "metadata": {
        "colab": {
          "base_uri": "https://localhost:8080/"
        },
        "id": "v87pFRBILgOw",
        "outputId": "8d8fe634-4263-48e0-8335-c5e63ae9d72b"
      },
      "execution_count": 4,
      "outputs": [
        {
          "output_type": "stream",
          "name": "stdout",
          "text": [
            "Dataset Loaded\n"
          ]
        }
      ]
    },
    {
      "cell_type": "code",
      "source": [
        "for sample_i in range(2):#len(ten_duong) - 1\n",
        "    print('Tên đường {}:  {}'.format(sample_i + 1, ten_duong[sample_i]))\n",
        "    print('Tọa độ {}:  {}'.format(sample_i + 1, toa_do[sample_i]))"
      ],
      "metadata": {
        "colab": {
          "base_uri": "https://localhost:8080/"
        },
        "id": "3i8zqwUsQlw8",
        "outputId": "546f35a4-02f9-408c-ecdd-7af3f96f9992"
      },
      "execution_count": 14,
      "outputs": [
        {
          "output_type": "stream",
          "name": "stdout",
          "text": [
            "Tên đường 1:  ﻿Alexandre de Rhodes\n",
            "Tọa độ 1:  ﻿\"10.779634866903798, 106.69683645007238\"\n",
            "Tên đường 2:  Bà Lê Chân\n",
            "Tọa độ 2:  \"10.790615971684014, 106.68954129640592\"\n"
          ]
        }
      ]
    },
    {
      "cell_type": "code",
      "source": [
        "def tokenize(x):\n",
        "    \"\"\"\n",
        "    Tokenize x\n",
        "    :param x: List of sentences/strings to be tokenized\n",
        "    :return: Tuple of (tokenized x data, tokenizer used to tokenize x)\n",
        "    \"\"\"\n",
        "    # TODO: Implement\n",
        "    x_tk = Tokenizer()\n",
        "    x_tk.fit_on_texts(x)\n",
        " \n",
        "    return x_tk.texts_to_sequences(x), x_tk\n",
        "\n",
        "#tests.test_tokenize(tokenize)\n",
        " \n",
        "# Tokenize Example output\n",
        "text_sentences = [\n",
        "    'The quick brown fox jumps over the lazy dog .',\n",
        "    'By Jove , my quick study of lexicography won a prize .',\n",
        "    'This is a short sentence .']\n",
        "text_tokenized, text_tokenizer = tokenize(text_sentences)\n",
        "print(text_tokenizer.word_index)\n",
        "print()\n",
        "for sample_i, (sent, token_sent) in enumerate(zip(text_sentences, text_tokenized)):\n",
        "    print('Sequence {} in x'.format(sample_i + 1))\n",
        "    print('  Input:  {}'.format(sent))\n",
        "    print('  Output: {}'.format(token_sent))"
      ],
      "metadata": {
        "colab": {
          "base_uri": "https://localhost:8080/"
        },
        "id": "DqEdFJZXSkWH",
        "outputId": "d879dcc1-e123-46ab-cb13-d4ec45b8e025"
      },
      "execution_count": 17,
      "outputs": [
        {
          "output_type": "stream",
          "name": "stdout",
          "text": [
            "{'the': 1, 'quick': 2, 'a': 3, 'brown': 4, 'fox': 5, 'jumps': 6, 'over': 7, 'lazy': 8, 'dog': 9, 'by': 10, 'jove': 11, 'my': 12, 'study': 13, 'of': 14, 'lexicography': 15, 'won': 16, 'prize': 17, 'this': 18, 'is': 19, 'short': 20, 'sentence': 21}\n",
            "\n",
            "Sequence 1 in x\n",
            "  Input:  The quick brown fox jumps over the lazy dog .\n",
            "  Output: [1, 2, 4, 5, 6, 7, 1, 8, 9]\n",
            "Sequence 2 in x\n",
            "  Input:  By Jove , my quick study of lexicography won a prize .\n",
            "  Output: [10, 11, 12, 2, 13, 14, 15, 16, 3, 17]\n",
            "Sequence 3 in x\n",
            "  Input:  This is a short sentence .\n",
            "  Output: [18, 19, 3, 20, 21]\n"
          ]
        }
      ]
    },
    {
      "cell_type": "code",
      "source": [
        "def pad(x, length=None):\n",
        "    \"\"\"\n",
        "    Pad x\n",
        "    :param x: List of sequences.\n",
        "    :param length: Length to pad the sequence to.  If None, use length of longest sequence in x.\n",
        "    :return: Padded numpy array of sequences\n",
        "    \"\"\"\n",
        "    # TODO: Implement\n",
        "    if length is None:\n",
        "        length = max([len(sentence) for sentence in x])\n",
        "    return pad_sequences(x, maxlen=length, padding='post', truncating='post')\n",
        "#tests.test_pad(pad)\n",
        " \n",
        "# Pad Tokenized output\n",
        "test_pad = pad(text_tokenized)\n",
        "for sample_i, (token_sent, pad_sent) in enumerate(zip(text_tokenized, test_pad)):\n",
        "    print('Sequence {} in x'.format(sample_i + 1))\n",
        "    print('  Input:  {}'.format(np.array(token_sent)))\n",
        "    print('  Output: {}'.format(pad_sent))"
      ],
      "metadata": {
        "colab": {
          "base_uri": "https://localhost:8080/"
        },
        "id": "FPQwMqL6VM8z",
        "outputId": "fc31eb16-ee3e-4040-c6c6-c834bc781591"
      },
      "execution_count": 18,
      "outputs": [
        {
          "output_type": "stream",
          "name": "stdout",
          "text": [
            "Sequence 1 in x\n",
            "  Input:  [1 2 4 5 6 7 1 8 9]\n",
            "  Output: [1 2 4 5 6 7 1 8 9 0]\n",
            "Sequence 2 in x\n",
            "  Input:  [10 11 12  2 13 14 15 16  3 17]\n",
            "  Output: [10 11 12  2 13 14 15 16  3 17]\n",
            "Sequence 3 in x\n",
            "  Input:  [18 19  3 20 21]\n",
            "  Output: [18 19  3 20 21  0  0  0  0  0]\n"
          ]
        }
      ]
    },
    {
      "cell_type": "code",
      "source": [
        "def preprocess(x, y):\n",
        "    \"\"\"\n",
        "    Preprocess x and y\n",
        "    :param x: Feature List of sentences\n",
        "    :param y: Label List of sentences\n",
        "    :return: Tuple of (Preprocessed x, Preprocessed y, x tokenizer, y tokenizer)\n",
        "    \"\"\"\n",
        "    preprocess_x, x_tk = tokenize(x)\n",
        "    preprocess_y, y_tk = tokenize(y)\n",
        " \n",
        "    preprocess_x = pad(preprocess_x)\n",
        "    preprocess_y = pad(preprocess_y)\n",
        " \n",
        "    # Keras's sparse_categorical_crossentropy function requires the labels to be in 3 dimensions\n",
        "    preprocess_y = preprocess_y.reshape(*preprocess_y.shape, 1)\n",
        " \n",
        "    return preprocess_x, preprocess_y, x_tk, y_tk\n",
        " \n",
        "preproc_english_sentences, preproc_french_sentences, english_tokenizer, french_tokenizer =\\\n",
        "    preprocess(ten_duong, toa_do)\n",
        "     \n",
        "max_english_sequence_length = preproc_english_sentences.shape[1]\n",
        "max_french_sequence_length = preproc_french_sentences.shape[1]\n",
        "english_vocab_size = len(english_tokenizer.word_index)\n",
        "french_vocab_size = len(french_tokenizer.word_index)\n",
        " \n",
        "print('Data Preprocessed')\n",
        "print(\"Max English sentence length:\", max_english_sequence_length)\n",
        "print(\"Max French sentence length:\", max_french_sequence_length)\n",
        "print(\"English vocabulary size:\", english_vocab_size)\n",
        "print(\"French vocabulary size:\", french_vocab_size)"
      ],
      "metadata": {
        "colab": {
          "base_uri": "https://localhost:8080/"
        },
        "id": "6S-EHEXUVSUT",
        "outputId": "e0b00506-40f3-45f2-cf5b-e769f73c2795"
      },
      "execution_count": 19,
      "outputs": [
        {
          "output_type": "stream",
          "name": "stdout",
          "text": [
            "Data Preprocessed\n",
            "Max English sentence length: 4\n",
            "Max French sentence length: 5\n",
            "English vocabulary size: 221\n",
            "French vocabulary size: 281\n"
          ]
        }
      ]
    },
    {
      "cell_type": "code",
      "source": [
        "def logits_to_text(logits, tokenizer):\n",
        "    \"\"\"\n",
        "    Turn logits from a neural network into text using the tokenizer\n",
        "    :param logits: Logits from a neural network\n",
        "    :param tokenizer: Keras Tokenizer fit on the labels\n",
        "    :return: String that represents the text of the logits\n",
        "    \"\"\"\n",
        "    index_to_words = {id: word for word, id in tokenizer.word_index.items()}\n",
        "    index_to_words[0] = '<PAD>'\n",
        " \n",
        "    return ' '.join([index_to_words[prediction] for prediction in np.argmax(logits, 1)])"
      ],
      "metadata": {
        "id": "Vpr0hyn-WSGf"
      },
      "execution_count": 20,
      "outputs": []
    },
    {
      "cell_type": "code",
      "source": [
        "french_vocab_size"
      ],
      "metadata": {
        "id": "--e8IgJl7YSu",
        "outputId": "0fda3b36-caeb-435a-f5dd-a6bb678e26eb",
        "colab": {
          "base_uri": "https://localhost:8080/"
        }
      },
      "execution_count": 47,
      "outputs": [
        {
          "output_type": "execute_result",
          "data": {
            "text/plain": [
              "281"
            ]
          },
          "metadata": {},
          "execution_count": 47
        }
      ]
    },
    {
      "cell_type": "code",
      "source": [
        "from keras.layers import GRU, Input, Dense, TimeDistributed, Dropout, LSTM\n",
        "from keras.models import Model, Sequential\n",
        "from keras.layers import Activation\n",
        "from tensorflow.keras.optimizers import Adam\n",
        "from keras.losses import sparse_categorical_crossentropy\n",
        "def simple_model(input_shape, output_sequence_length, english_vocab_size, french_vocab_size):\n",
        "    \"\"\"\n",
        "    Build and train a basic RNN on x and y\n",
        "    :param input_shape: Tuple of input shape\n",
        "    :param output_sequence_length: Length of output sequence\n",
        "    :param english_vocab_size: Number of unique English words in the dataset\n",
        "    :param french_vocab_size: Number of unique French words in the dataset\n",
        "    :return: Keras model built, but not trained\n",
        "    \"\"\"\n",
        "    # TODO: Build the layers\n",
        "    learning_rate = 1e-3\n",
        "    model = Sequential()\n",
        "    model.add(GRU(128, input_shape=input_shape[1:], return_sequences=True))\n",
        "    model.add(Dropout(0.5))\n",
        "    model.add(GRU(128, return_sequences=True))\n",
        "    model.add(Dropout(0.5))\n",
        "    model.add(TimeDistributed(Dense(256, activation='relu')))\n",
        "    model.add(Dropout(0.5))\n",
        "    model.add(TimeDistributed(Dense(french_vocab_size+1, activation='softmax'))) \n",
        "     \n",
        "     \n",
        "    model.compile(loss=sparse_categorical_crossentropy,\n",
        "                  optimizer=Adam(learning_rate),\n",
        "                  metrics=['accuracy'])\n",
        "    return model\n",
        "#tests.test_simple_model(simple_model)\n",
        " \n",
        "# Reshaping the input to work with a basic RNN\n",
        "tmp_x = pad(preproc_english_sentences, max_french_sequence_length)\n",
        "tmp_x = tmp_x.reshape((-1, preproc_french_sentences.shape[-2], 1))\n",
        " \n",
        " \n",
        " \n",
        "# Train the neural network\n",
        "simple_rnn_model = simple_model(\n",
        "    tmp_x.shape,\n",
        "    max_french_sequence_length,\n",
        "    english_vocab_size,\n",
        "    french_vocab_size)\n",
        "simple_rnn_model.fit(tmp_x, preproc_french_sentences, batch_size=300, epochs=10, validation_split=0.2)\n",
        " \n",
        "# Print prediction(s)\n",
        "print(logits_to_text(simple_rnn_model.predict(tmp_x[:1])[0], french_tokenizer))"
      ],
      "metadata": {
        "colab": {
          "base_uri": "https://localhost:8080/"
        },
        "id": "NPVbiEgxWWQV",
        "outputId": "edd2955a-17c0-44d4-edce-ccf6ed09bf95"
      },
      "execution_count": 49,
      "outputs": [
        {
          "output_type": "stream",
          "name": "stdout",
          "text": [
            "Epoch 1/10\n",
            "1/1 [==============================] - 5s 5s/step - loss: 5.6889 - accuracy: 0.0000e+00 - val_loss: 5.5374 - val_accuracy: 0.0214\n",
            "Epoch 2/10\n",
            "1/1 [==============================] - 0s 81ms/step - loss: 5.5806 - accuracy: 0.0143 - val_loss: 5.4215 - val_accuracy: 0.2286\n",
            "Epoch 3/10\n",
            "1/1 [==============================] - 0s 77ms/step - loss: 5.4703 - accuracy: 0.0464 - val_loss: 5.2980 - val_accuracy: 0.2714\n",
            "Epoch 4/10\n",
            "1/1 [==============================] - 0s 74ms/step - loss: 5.3552 - accuracy: 0.0964 - val_loss: 5.1606 - val_accuracy: 0.2929\n",
            "Epoch 5/10\n",
            "1/1 [==============================] - 0s 77ms/step - loss: 5.2245 - accuracy: 0.1964 - val_loss: 5.0079 - val_accuracy: 0.3500\n",
            "Epoch 6/10\n",
            "1/1 [==============================] - 0s 86ms/step - loss: 5.0810 - accuracy: 0.2571 - val_loss: 4.8380 - val_accuracy: 0.4143\n",
            "Epoch 7/10\n",
            "1/1 [==============================] - 0s 77ms/step - loss: 4.9291 - accuracy: 0.2732 - val_loss: 4.6520 - val_accuracy: 0.4214\n",
            "Epoch 8/10\n",
            "1/1 [==============================] - 0s 89ms/step - loss: 4.7309 - accuracy: 0.2964 - val_loss: 4.4559 - val_accuracy: 0.4143\n",
            "Epoch 9/10\n",
            "1/1 [==============================] - 0s 78ms/step - loss: 4.5966 - accuracy: 0.2643 - val_loss: 4.2698 - val_accuracy: 0.4143\n",
            "Epoch 10/10\n",
            "1/1 [==============================] - 0s 85ms/step - loss: 4.3764 - accuracy: 0.3179 - val_loss: 4.1241 - val_accuracy: 0.4143\n",
            "106 106 106 106 <PAD>\n"
          ]
        }
      ]
    },
    {
      "cell_type": "code",
      "source": [
        "simple_rnn_model.summary()"
      ],
      "metadata": {
        "id": "u3yL5Ss-4cZc",
        "outputId": "073f0d3d-57f0-43be-8a73-d9b12126150e",
        "colab": {
          "base_uri": "https://localhost:8080/"
        }
      },
      "execution_count": 50,
      "outputs": [
        {
          "output_type": "stream",
          "name": "stdout",
          "text": [
            "Model: \"sequential_28\"\n",
            "_________________________________________________________________\n",
            " Layer (type)                Output Shape              Param #   \n",
            "=================================================================\n",
            " gru_43 (GRU)                (None, 5, 128)            50304     \n",
            "                                                                 \n",
            " dropout_60 (Dropout)        (None, 5, 128)            0         \n",
            "                                                                 \n",
            " gru_44 (GRU)                (None, 5, 128)            99072     \n",
            "                                                                 \n",
            " dropout_61 (Dropout)        (None, 5, 128)            0         \n",
            "                                                                 \n",
            " time_distributed_40 (TimeDi  (None, 5, 256)           33024     \n",
            " stributed)                                                      \n",
            "                                                                 \n",
            " dropout_62 (Dropout)        (None, 5, 256)            0         \n",
            "                                                                 \n",
            " time_distributed_41 (TimeDi  (None, 5, 282)           72474     \n",
            " stributed)                                                      \n",
            "                                                                 \n",
            "=================================================================\n",
            "Total params: 254,874\n",
            "Trainable params: 254,874\n",
            "Non-trainable params: 0\n",
            "_________________________________________________________________\n"
          ]
        }
      ]
    },
    {
      "cell_type": "code",
      "source": [
        "import os\n",
        "import glob\n",
        " \n",
        "if not os.path.exists(\"models\"):\n",
        "    os.makedirs(\"models\")\n",
        " \n",
        "from keras.models import load_model\n",
        "cache_dir = os.path.join(\"models\")\n",
        "model_file = \"rnn_model.h5\"\n",
        "simple_rnn_model.save(os.path.join(cache_dir, model_file))\n",
        " \n",
        "os.path.join(cache_dir, model_file)"
      ],
      "metadata": {
        "id": "yOzLiaLeMyec",
        "outputId": "5c35506f-5aff-408f-fe6e-8be2c4dc988c",
        "colab": {
          "base_uri": "https://localhost:8080/",
          "height": 36
        }
      },
      "execution_count": 51,
      "outputs": [
        {
          "output_type": "execute_result",
          "data": {
            "text/plain": [
              "'models/rnn_model.h5'"
            ],
            "application/vnd.google.colaboratory.intrinsic+json": {
              "type": "string"
            }
          },
          "metadata": {},
          "execution_count": 51
        }
      ]
    },
    {
      "cell_type": "code",
      "source": [
        "from keras.layers.embeddings import Embedding\n",
        "def embed_model(input_shape, output_sequence_length, english_vocab_size, french_vocab_size):\n",
        "    \"\"\"\n",
        "    Build and train a RNN model using word embedding on x and y\n",
        "    :param input_shape: Tuple of input shape\n",
        "    :param output_sequence_length: Length of output sequence\n",
        "    :param english_vocab_size: Number of unique English words in the dataset\n",
        "    :param french_vocab_size: Number of unique French words in the dataset\n",
        "    :return: Keras model built, but not trained\n",
        "    \"\"\"\n",
        "    # Implement\n",
        "    learning_rate= 0.001\n",
        "    model = Sequential()\n",
        "    model.add(Embedding(english_vocab_size, 100, input_length=input_shape[1], input_shape=input_shape[1:]))\n",
        "     \n",
        "    model.add(GRU(128, return_sequences=True))\n",
        "    model.add(Dropout(0.5))\n",
        "    model.add(GRU(128,  return_sequences=True))\n",
        "    model.add(Dropout(0.5))\n",
        "    model.add(TimeDistributed(Dense(256, activation='relu')))\n",
        "    model.add(Dropout(0.5))\n",
        "    model.add(TimeDistributed(Dense(french_vocab_size+1, activation='softmax'))) \n",
        "     \n",
        "    model.compile(loss=sparse_categorical_crossentropy,\n",
        "                  optimizer=Adam(learning_rate),\n",
        "                  metrics=['accuracy'])\n",
        "     \n",
        "  \n",
        "    return model\n",
        "#tests.test_embed_model(embed_model)\n",
        " \n",
        " \n",
        "#  Reshape the input\n",
        "tmp_x = pad(preproc_english_sentences, preproc_french_sentences.shape[1])\n",
        "tmp_x = tmp_x.reshape((-1, preproc_french_sentences.shape[-2]))\n",
        " \n",
        "#  Train the neural network\n",
        "embed_rnn_model = embed_model(\n",
        "    tmp_x.shape,\n",
        "    preproc_french_sentences.shape[1],\n",
        "    len(english_tokenizer.word_index)+1,\n",
        "    len(french_tokenizer.word_index)+1)"
      ],
      "metadata": {
        "id": "z0jjj1r8NgiC"
      },
      "execution_count": 54,
      "outputs": []
    },
    {
      "cell_type": "code",
      "source": [
        "embed_rnn_model.fit(tmp_x, preproc_french_sentences, batch_size=300, epochs=10, validation_split=0.2)"
      ],
      "metadata": {
        "id": "G1j7wEtrOAqO",
        "outputId": "5a40cd58-6794-4d5b-9ea4-9dc64ce7cbc4",
        "colab": {
          "base_uri": "https://localhost:8080/"
        }
      },
      "execution_count": 55,
      "outputs": [
        {
          "output_type": "stream",
          "name": "stdout",
          "text": [
            "Epoch 1/10\n",
            "1/1 [==============================] - 5s 5s/step - loss: 5.6448 - accuracy: 0.0036 - val_loss: 5.6359 - val_accuracy: 0.3000\n",
            "Epoch 2/10\n",
            "1/1 [==============================] - 0s 91ms/step - loss: 5.6361 - accuracy: 0.1000 - val_loss: 5.6260 - val_accuracy: 0.2571\n",
            "Epoch 3/10\n",
            "1/1 [==============================] - 0s 82ms/step - loss: 5.6258 - accuracy: 0.2357 - val_loss: 5.6137 - val_accuracy: 0.2571\n",
            "Epoch 4/10\n",
            "1/1 [==============================] - 0s 83ms/step - loss: 5.6117 - accuracy: 0.2643 - val_loss: 5.5983 - val_accuracy: 0.2357\n",
            "Epoch 5/10\n",
            "1/1 [==============================] - 0s 89ms/step - loss: 5.5970 - accuracy: 0.2518 - val_loss: 5.5784 - val_accuracy: 0.2357\n",
            "Epoch 6/10\n",
            "1/1 [==============================] - 0s 86ms/step - loss: 5.5760 - accuracy: 0.2464 - val_loss: 5.5529 - val_accuracy: 0.2357\n",
            "Epoch 7/10\n",
            "1/1 [==============================] - 0s 81ms/step - loss: 5.5487 - accuracy: 0.2214 - val_loss: 5.5199 - val_accuracy: 0.2286\n",
            "Epoch 8/10\n",
            "1/1 [==============================] - 0s 84ms/step - loss: 5.5160 - accuracy: 0.2196 - val_loss: 5.4769 - val_accuracy: 0.2286\n",
            "Epoch 9/10\n",
            "1/1 [==============================] - 0s 94ms/step - loss: 5.4692 - accuracy: 0.2054 - val_loss: 5.4214 - val_accuracy: 0.2286\n",
            "Epoch 10/10\n",
            "1/1 [==============================] - 0s 81ms/step - loss: 5.4096 - accuracy: 0.2089 - val_loss: 5.3491 - val_accuracy: 0.2286\n"
          ]
        },
        {
          "output_type": "execute_result",
          "data": {
            "text/plain": [
              "<keras.callbacks.History at 0x7f35bdd2f210>"
            ]
          },
          "metadata": {},
          "execution_count": 55
        }
      ]
    },
    {
      "cell_type": "code",
      "source": [
        "embed_rnn_model.summary()\n",
        "model_file = \"embed_model.h5\"\n",
        "embed_rnn_model.save(os.path.join(cache_dir, model_file))"
      ],
      "metadata": {
        "id": "L7-vkigSOK0N",
        "outputId": "f2384de1-db62-46e7-83d6-bbffc2ba0807",
        "colab": {
          "base_uri": "https://localhost:8080/"
        }
      },
      "execution_count": 56,
      "outputs": [
        {
          "output_type": "stream",
          "name": "stdout",
          "text": [
            "Model: \"sequential_30\"\n",
            "_________________________________________________________________\n",
            " Layer (type)                Output Shape              Param #   \n",
            "=================================================================\n",
            " embedding_1 (Embedding)     (None, 5, 100)            22200     \n",
            "                                                                 \n",
            " gru_47 (GRU)                (None, 5, 128)            88320     \n",
            "                                                                 \n",
            " dropout_66 (Dropout)        (None, 5, 128)            0         \n",
            "                                                                 \n",
            " gru_48 (GRU)                (None, 5, 128)            99072     \n",
            "                                                                 \n",
            " dropout_67 (Dropout)        (None, 5, 128)            0         \n",
            "                                                                 \n",
            " time_distributed_44 (TimeDi  (None, 5, 256)           33024     \n",
            " stributed)                                                      \n",
            "                                                                 \n",
            " dropout_68 (Dropout)        (None, 5, 256)            0         \n",
            "                                                                 \n",
            " time_distributed_45 (TimeDi  (None, 5, 283)           72731     \n",
            " stributed)                                                      \n",
            "                                                                 \n",
            "=================================================================\n",
            "Total params: 315,347\n",
            "Trainable params: 315,347\n",
            "Non-trainable params: 0\n",
            "_________________________________________________________________\n"
          ]
        }
      ]
    },
    {
      "cell_type": "code",
      "source": [
        "print(ten_duong[:1])\n",
        "print(toa_do[:1])"
      ],
      "metadata": {
        "id": "_NGkVliKOblQ",
        "outputId": "b1d5fa22-f6fc-4caf-ed72-f122719c126f",
        "colab": {
          "base_uri": "https://localhost:8080/"
        }
      },
      "execution_count": 58,
      "outputs": [
        {
          "output_type": "stream",
          "name": "stdout",
          "text": [
            "['\\ufeffAlexandre de Rhodes']\n",
            "['\\ufeff\"10.779634866903798, 106.69683645007238\"']\n"
          ]
        }
      ]
    },
    {
      "cell_type": "code",
      "source": [
        "print(logits_to_text(embed_rnn_model.predict(tmp_x[:1])[0], french_tokenizer))"
      ],
      "metadata": {
        "id": "Xo_wroqgOkET",
        "outputId": "d198cc45-0971-4a9d-a2b4-23487f1b703c",
        "colab": {
          "base_uri": "https://localhost:8080/"
        }
      },
      "execution_count": 64,
      "outputs": [
        {
          "output_type": "stream",
          "name": "stdout",
          "text": [
            "<PAD> <PAD> <PAD> <PAD> <PAD>\n"
          ]
        }
      ]
    }
  ]
}