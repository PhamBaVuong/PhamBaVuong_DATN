{
  "nbformat": 4,
  "nbformat_minor": 0,
  "metadata": {
    "colab": {
      "provenance": [],
      "authorship_tag": "ABX9TyNiz+YPklEYIT/Y8BL/GTEs",
      "include_colab_link": true
    },
    "kernelspec": {
      "name": "python3",
      "display_name": "Python 3"
    },
    "language_info": {
      "name": "python"
    }
  },
  "cells": [
    {
      "cell_type": "markdown",
      "metadata": {
        "id": "view-in-github",
        "colab_type": "text"
      },
      "source": [
        "<a href=\"https://colab.research.google.com/github/PhamBaVuong/PhamBaVuong_DATN/blob/main/Routing.ipynb\" target=\"_parent\"><img src=\"https://colab.research.google.com/assets/colab-badge.svg\" alt=\"Open In Colab\"/></a>"
      ]
    },
    {
      "cell_type": "code",
      "source": [
        "pip install polyline"
      ],
      "metadata": {
        "colab": {
          "base_uri": "https://localhost:8080/"
        },
        "id": "lrx_DlnAHX1m",
        "outputId": "1c5ad777-227c-41a7-e7b2-5530dc9888e1"
      },
      "execution_count": 1,
      "outputs": [
        {
          "output_type": "stream",
          "name": "stdout",
          "text": [
            "Looking in indexes: https://pypi.org/simple, https://us-python.pkg.dev/colab-wheels/public/simple/\n",
            "Collecting polyline\n",
            "  Downloading polyline-1.4.0-py2.py3-none-any.whl (4.4 kB)\n",
            "Requirement already satisfied: six>=1.8.0 in /usr/local/lib/python3.7/dist-packages (from polyline) (1.15.0)\n",
            "Installing collected packages: polyline\n",
            "Successfully installed polyline-1.4.0\n"
          ]
        }
      ]
    },
    {
      "cell_type": "code",
      "execution_count": 2,
      "metadata": {
        "id": "FWu_9UC_HPbu"
      },
      "outputs": [],
      "source": [
        "import requests\n",
        "import folium\n",
        "import polyline"
      ]
    },
    {
      "cell_type": "code",
      "source": [
        "url = \"http://router.project-osrm.org/route/v1/driving/13.388860,52.517037;13.397634,52.529407;13.428555,52.523219?overview=false\"\n",
        "r = requests.get(url)\n",
        "res = r.json()\n",
        "res"
      ],
      "metadata": {
        "colab": {
          "base_uri": "https://localhost:8080/"
        },
        "id": "5FSJYR2SHRJJ",
        "outputId": "7af3ee64-7271-4776-8e54-2737997261fc"
      },
      "execution_count": 3,
      "outputs": [
        {
          "output_type": "execute_result",
          "data": {
            "text/plain": [
              "{'code': 'Ok',\n",
              " 'routes': [{'legs': [{'steps': [],\n",
              "     'summary': '',\n",
              "     'weight': 260.8,\n",
              "     'duration': 259.6,\n",
              "     'distance': 1884},\n",
              "    {'steps': [],\n",
              "     'summary': '',\n",
              "     'weight': 365.7,\n",
              "     'duration': 365.7,\n",
              "     'distance': 2839.2}],\n",
              "   'weight_name': 'routability',\n",
              "   'weight': 626.5,\n",
              "   'duration': 625.3,\n",
              "   'distance': 4723.2}],\n",
              " 'waypoints': [{'hint': 'hAEKgEwlmYUXAAAABQAAAAAAAAAgAAAAfXRPQdLNK0AAAAAAsPePQQsAAAADAAAAAAAAABAAAAAb7wAA_kvMAKlYIQM8TMwArVghAwAA7wobj63C',\n",
              "   'distance': 4.231666,\n",
              "   'name': 'Friedrichstraße',\n",
              "   'location': [13.388798, 52.517033]},\n",
              "  {'hint': 'g_jcgWl6iIcGAAAACgAAAAAAAAB3AAAA5JSNQJ0fwkAAAAAAGjmEQgYAAAAKAAAAAAAAAHcAAAAb7wAAfm7MABiJIQOCbswA_4ghAwAAXwUbj63C',\n",
              "   'distance': 2.795167,\n",
              "   'name': 'Torstraße',\n",
              "   'location': [13.39763, 52.529432]},\n",
              "  {'hint': 'ZywYgP___38fAAAAUQAAACYAAAAeAAAAsowKQkpQX0Lf6yZCvsQGQh8AAABRAAAAJgAAAB4AAAAb7wAASufMAOdwIQNL58wA03AhAwMAvxAbj63C',\n",
              "   'distance': 2.226595,\n",
              "   'name': 'Platz der Vereinten Nationen',\n",
              "   'location': [13.428554, 52.523239]}]}"
            ]
          },
          "metadata": {},
          "execution_count": 3
        }
      ]
    },
    {
      "cell_type": "code",
      "source": [
        "def get_route(pickup_lon, pickup_lat, dropoff_lon, dropoff_lat):\n",
        "    \n",
        "    loc = \"{},{};{},{}\".format(pickup_lon, pickup_lat, dropoff_lon, dropoff_lat)\n",
        "    url = \"http://router.project-osrm.org/route/v1/driving/\"\n",
        "    r = requests.get(url + loc) \n",
        "    if r.status_code!= 200:\n",
        "        return {}\n",
        "  \n",
        "    res = r.json()   \n",
        "    routes = polyline.decode(res['routes'][0]['geometry'])\n",
        "    start_point = [res['waypoints'][0]['location'][1], res['waypoints'][0]['location'][0]]\n",
        "    end_point = [res['waypoints'][1]['location'][1], res['waypoints'][1]['location'][0]]\n",
        "    distance = res['routes'][0]['distance']\n",
        "    \n",
        "    out = {'route':routes,\n",
        "           'start_point':start_point,\n",
        "           'end_point':end_point,\n",
        "           'distance':distance\n",
        "          }\n",
        "\n",
        "    return out"
      ],
      "metadata": {
        "id": "y-o0HsjmJIpL"
      },
      "execution_count": 8,
      "outputs": []
    },
    {
      "cell_type": "code",
      "source": [
        "pickup_lon, pickup_lat, dropoff_lon, dropoff_lat = 106.6638882232723,10.851114146868106 ,106.66482746593148, 10.841712258705531\n",
        "test_route = get_route(pickup_lon, pickup_lat, dropoff_lon, dropoff_lat)\n",
        "test_route"
      ],
      "metadata": {
        "colab": {
          "base_uri": "https://localhost:8080/"
        },
        "id": "Zn4V4hwhJKCB",
        "outputId": "f2e29fbc-8037-4f4b-f517-2ffdccd42837"
      },
      "execution_count": 13,
      "outputs": [
        {
          "output_type": "execute_result",
          "data": {
            "text/plain": [
              "{'route': [(10.85112, 106.66388),\n",
              "  (10.85097, 106.66372),\n",
              "  (10.85083, 106.66399),\n",
              "  (10.8505, 106.66386),\n",
              "  (10.84982, 106.66497),\n",
              "  (10.84823, 106.6646),\n",
              "  (10.84781, 106.66458),\n",
              "  (10.84522, 106.66479),\n",
              "  (10.8436, 106.66466),\n",
              "  (10.84171, 106.66481)],\n",
              " 'start_point': [10.851122, 106.663883],\n",
              " 'end_point': [10.84171, 106.664806],\n",
              " 'distance': 1152.5}"
            ]
          },
          "metadata": {},
          "execution_count": 13
        }
      ]
    },
    {
      "cell_type": "code",
      "source": [
        "def get_map(route):\n",
        "    \n",
        "    m = folium.Map(location=[(route['start_point'][0] + route['end_point'][0])/2, \n",
        "                             (route['start_point'][1] + route['end_point'][1])/2], \n",
        "                   zoom_start=13)\n",
        "\n",
        "    folium.PolyLine(\n",
        "        route['route'],\n",
        "        weight=8,\n",
        "        color='blue',\n",
        "        opacity=0.6\n",
        "    ).add_to(m)\n",
        "\n",
        "    folium.Marker(\n",
        "        location=route['start_point'],\n",
        "        icon=folium.Icon(icon='play', color='green')\n",
        "    ).add_to(m)\n",
        "\n",
        "    folium.Marker(\n",
        "        location=route['end_point'],\n",
        "        icon=folium.Icon(icon='stop', color='red')\n",
        "    ).add_to(m)\n",
        "\n",
        "    return m"
      ],
      "metadata": {
        "id": "AubCQFN0I3ZU"
      },
      "execution_count": 14,
      "outputs": []
    },
    {
      "cell_type": "code",
      "source": [
        "get_map(test_route)"
      ],
      "metadata": {
        "colab": {
          "base_uri": "https://localhost:8080/",
          "height": 865
        },
        "id": "uiNYgqrPI6nz",
        "outputId": "8273ae21-007c-4ee4-9e16-0d417a592c65"
      },
      "execution_count": 15,
      "outputs": [
        {
          "output_type": "execute_result",
          "data": {
            "text/plain": [
              "<folium.folium.Map at 0x7f43246aac10>"
            ],
            "text/html": [
              "<div style=\"width:100%;\"><div style=\"position:relative;width:100%;height:0;padding-bottom:60%;\"><span style=\"color:#565656\">Make this Notebook Trusted to load map: File -> Trust Notebook</span><iframe srcdoc=\"&lt;!DOCTYPE html&gt;\n",
              "&lt;head&gt;    \n",
              "    &lt;meta http-equiv=&quot;content-type&quot; content=&quot;text/html; charset=UTF-8&quot; /&gt;\n",
              "    \n",
              "        &lt;script&gt;\n",
              "            L_NO_TOUCH = false;\n",
              "            L_DISABLE_3D = false;\n",
              "        &lt;/script&gt;\n",
              "    \n",
              "    &lt;style&gt;html, body {width: 100%;height: 100%;margin: 0;padding: 0;}&lt;/style&gt;\n",
              "    &lt;style&gt;#map {position:absolute;top:0;bottom:0;right:0;left:0;}&lt;/style&gt;\n",
              "    &lt;script src=&quot;https://cdn.jsdelivr.net/npm/leaflet@1.6.0/dist/leaflet.js&quot;&gt;&lt;/script&gt;\n",
              "    &lt;script src=&quot;https://code.jquery.com/jquery-1.12.4.min.js&quot;&gt;&lt;/script&gt;\n",
              "    &lt;script src=&quot;https://maxcdn.bootstrapcdn.com/bootstrap/3.2.0/js/bootstrap.min.js&quot;&gt;&lt;/script&gt;\n",
              "    &lt;script src=&quot;https://cdnjs.cloudflare.com/ajax/libs/Leaflet.awesome-markers/2.0.2/leaflet.awesome-markers.js&quot;&gt;&lt;/script&gt;\n",
              "    &lt;link rel=&quot;stylesheet&quot; href=&quot;https://cdn.jsdelivr.net/npm/leaflet@1.6.0/dist/leaflet.css&quot;/&gt;\n",
              "    &lt;link rel=&quot;stylesheet&quot; href=&quot;https://maxcdn.bootstrapcdn.com/bootstrap/3.2.0/css/bootstrap.min.css&quot;/&gt;\n",
              "    &lt;link rel=&quot;stylesheet&quot; href=&quot;https://maxcdn.bootstrapcdn.com/bootstrap/3.2.0/css/bootstrap-theme.min.css&quot;/&gt;\n",
              "    &lt;link rel=&quot;stylesheet&quot; href=&quot;https://maxcdn.bootstrapcdn.com/font-awesome/4.6.3/css/font-awesome.min.css&quot;/&gt;\n",
              "    &lt;link rel=&quot;stylesheet&quot; href=&quot;https://cdnjs.cloudflare.com/ajax/libs/Leaflet.awesome-markers/2.0.2/leaflet.awesome-markers.css&quot;/&gt;\n",
              "    &lt;link rel=&quot;stylesheet&quot; href=&quot;https://cdn.jsdelivr.net/gh/python-visualization/folium/folium/templates/leaflet.awesome.rotate.min.css&quot;/&gt;\n",
              "    \n",
              "            &lt;meta name=&quot;viewport&quot; content=&quot;width=device-width,\n",
              "                initial-scale=1.0, maximum-scale=1.0, user-scalable=no&quot; /&gt;\n",
              "            &lt;style&gt;\n",
              "                #map_fcdee385683b706aa8f6ebcbb1bdc18c {\n",
              "                    position: relative;\n",
              "                    width: 100.0%;\n",
              "                    height: 100.0%;\n",
              "                    left: 0.0%;\n",
              "                    top: 0.0%;\n",
              "                }\n",
              "            &lt;/style&gt;\n",
              "        \n",
              "&lt;/head&gt;\n",
              "&lt;body&gt;    \n",
              "    \n",
              "            &lt;div class=&quot;folium-map&quot; id=&quot;map_fcdee385683b706aa8f6ebcbb1bdc18c&quot; &gt;&lt;/div&gt;\n",
              "        \n",
              "&lt;/body&gt;\n",
              "&lt;script&gt;    \n",
              "    \n",
              "            var map_fcdee385683b706aa8f6ebcbb1bdc18c = L.map(\n",
              "                &quot;map_fcdee385683b706aa8f6ebcbb1bdc18c&quot;,\n",
              "                {\n",
              "                    center: [10.846416000000001, 106.6643445],\n",
              "                    crs: L.CRS.EPSG3857,\n",
              "                    zoom: 13,\n",
              "                    zoomControl: true,\n",
              "                    preferCanvas: false,\n",
              "                }\n",
              "            );\n",
              "\n",
              "            \n",
              "\n",
              "        \n",
              "    \n",
              "            var tile_layer_4cf9d6bdae41a73b8425f0cea79aada6 = L.tileLayer(\n",
              "                &quot;https://{s}.tile.openstreetmap.org/{z}/{x}/{y}.png&quot;,\n",
              "                {&quot;attribution&quot;: &quot;Data by \\u0026copy; \\u003ca href=\\&quot;http://openstreetmap.org\\&quot;\\u003eOpenStreetMap\\u003c/a\\u003e, under \\u003ca href=\\&quot;http://www.openstreetmap.org/copyright\\&quot;\\u003eODbL\\u003c/a\\u003e.&quot;, &quot;detectRetina&quot;: false, &quot;maxNativeZoom&quot;: 18, &quot;maxZoom&quot;: 18, &quot;minZoom&quot;: 0, &quot;noWrap&quot;: false, &quot;opacity&quot;: 1, &quot;subdomains&quot;: &quot;abc&quot;, &quot;tms&quot;: false}\n",
              "            ).addTo(map_fcdee385683b706aa8f6ebcbb1bdc18c);\n",
              "        \n",
              "    \n",
              "            var poly_line_3792324fd8a2c5c72b1b220d952ef695 = L.polyline(\n",
              "                [[10.85112, 106.66388], [10.85097, 106.66372], [10.85083, 106.66399], [10.8505, 106.66386], [10.84982, 106.66497], [10.84823, 106.6646], [10.84781, 106.66458], [10.84522, 106.66479], [10.8436, 106.66466], [10.84171, 106.66481]],\n",
              "                {&quot;bubblingMouseEvents&quot;: true, &quot;color&quot;: &quot;blue&quot;, &quot;dashArray&quot;: null, &quot;dashOffset&quot;: null, &quot;fill&quot;: false, &quot;fillColor&quot;: &quot;blue&quot;, &quot;fillOpacity&quot;: 0.2, &quot;fillRule&quot;: &quot;evenodd&quot;, &quot;lineCap&quot;: &quot;round&quot;, &quot;lineJoin&quot;: &quot;round&quot;, &quot;noClip&quot;: false, &quot;opacity&quot;: 0.6, &quot;smoothFactor&quot;: 1.0, &quot;stroke&quot;: true, &quot;weight&quot;: 8}\n",
              "            ).addTo(map_fcdee385683b706aa8f6ebcbb1bdc18c);\n",
              "        \n",
              "    \n",
              "            var marker_711e5723e5a166a8fefe7c691322edbd = L.marker(\n",
              "                [10.851122, 106.663883],\n",
              "                {}\n",
              "            ).addTo(map_fcdee385683b706aa8f6ebcbb1bdc18c);\n",
              "        \n",
              "    \n",
              "            var icon_b9e0f64cef3b18221af1afadfcf9e0e3 = L.AwesomeMarkers.icon(\n",
              "                {&quot;extraClasses&quot;: &quot;fa-rotate-0&quot;, &quot;icon&quot;: &quot;play&quot;, &quot;iconColor&quot;: &quot;white&quot;, &quot;markerColor&quot;: &quot;green&quot;, &quot;prefix&quot;: &quot;glyphicon&quot;}\n",
              "            );\n",
              "            marker_711e5723e5a166a8fefe7c691322edbd.setIcon(icon_b9e0f64cef3b18221af1afadfcf9e0e3);\n",
              "        \n",
              "    \n",
              "            var marker_95cf843097ee8b29ba8a0a0f24d23376 = L.marker(\n",
              "                [10.84171, 106.664806],\n",
              "                {}\n",
              "            ).addTo(map_fcdee385683b706aa8f6ebcbb1bdc18c);\n",
              "        \n",
              "    \n",
              "            var icon_7485d568a0edd4a6ed5a18c48d7486da = L.AwesomeMarkers.icon(\n",
              "                {&quot;extraClasses&quot;: &quot;fa-rotate-0&quot;, &quot;icon&quot;: &quot;stop&quot;, &quot;iconColor&quot;: &quot;white&quot;, &quot;markerColor&quot;: &quot;red&quot;, &quot;prefix&quot;: &quot;glyphicon&quot;}\n",
              "            );\n",
              "            marker_95cf843097ee8b29ba8a0a0f24d23376.setIcon(icon_7485d568a0edd4a6ed5a18c48d7486da);\n",
              "        \n",
              "&lt;/script&gt;\" style=\"position:absolute;width:100%;height:100%;left:0;top:0;border:none !important;\" allowfullscreen webkitallowfullscreen mozallowfullscreen></iframe></div></div>"
            ]
          },
          "metadata": {},
          "execution_count": 15
        }
      ]
    }
  ]
}