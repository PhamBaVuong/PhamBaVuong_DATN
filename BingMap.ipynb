{
  "nbformat": 4,
  "nbformat_minor": 0,
  "metadata": {
    "colab": {
      "provenance": [],
      "authorship_tag": "ABX9TyO99JQehcKmkKcjGIPm7FF2",
      "include_colab_link": true
    },
    "kernelspec": {
      "name": "python3",
      "display_name": "Python 3"
    },
    "language_info": {
      "name": "python"
    }
  },
  "cells": [
    {
      "cell_type": "markdown",
      "metadata": {
        "id": "view-in-github",
        "colab_type": "text"
      },
      "source": [
        "<a href=\"https://colab.research.google.com/github/PhamBaVuong/PhamBaVuong_DATN/blob/main/BingMap.ipynb\" target=\"_parent\"><img src=\"https://colab.research.google.com/assets/colab-badge.svg\" alt=\"Open In Colab\"/></a>"
      ]
    },
    {
      "cell_type": "code",
      "execution_count": 1,
      "metadata": {
        "colab": {
          "base_uri": "https://localhost:8080/"
        },
        "id": "gKwekY7SGVVl",
        "outputId": "2026bd1e-d09c-498c-950f-1c4f5e0bbf34"
      },
      "outputs": [
        {
          "output_type": "stream",
          "name": "stdout",
          "text": [
            "Looking in indexes: https://pypi.org/simple, https://us-python.pkg.dev/colab-wheels/public/simple/\n",
            "\u001b[31mERROR: Could not find a version that satisfies the requirement py-bing-maps (from versions: none)\u001b[0m\n",
            "\u001b[31mERROR: No matching distribution found for py-bing-maps\u001b[0m\n"
          ]
        }
      ],
      "source": [
        "pip install py-bing-maps"
      ]
    },
    {
      "cell_type": "code",
      "source": [
        "AiJdULAqyZupKB33Go1cksw8j63nLNIt9F0HJXDlZpyy0cbnsH7Yb7V1kNf5R23r"
      ],
      "metadata": {
        "id": "zFQFQ2S0Grxs"
      },
      "execution_count": null,
      "outputs": []
    }
  ]
}