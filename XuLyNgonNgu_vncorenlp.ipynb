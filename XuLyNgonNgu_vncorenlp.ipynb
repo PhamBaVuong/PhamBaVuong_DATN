{
  "nbformat": 4,
  "nbformat_minor": 0,
  "metadata": {
    "colab": {
      "name": "XuLyNgonNgu_vncorenlp.ipynb",
      "provenance": [],
      "authorship_tag": "ABX9TyP0o2ynhsW604At+37t7JbB",
      "include_colab_link": true
    },
    "kernelspec": {
      "name": "python3",
      "display_name": "Python 3"
    },
    "language_info": {
      "name": "python"
    }
  },
  "cells": [
    {
      "cell_type": "markdown",
      "metadata": {
        "id": "view-in-github",
        "colab_type": "text"
      },
      "source": [
        "<a href=\"https://colab.research.google.com/github/PhamBaVuong/PhamBaVuong_DATN/blob/main/XuLyNgonNgu_vncorenlp.ipynb\" target=\"_parent\"><img src=\"https://colab.research.google.com/assets/colab-badge.svg\" alt=\"Open In Colab\"/></a>"
      ]
    },
    {
      "cell_type": "code",
      "source": [
        "from google.colab import drive\n",
        "drive.mount('/content/drive')"
      ],
      "metadata": {
        "colab": {
          "base_uri": "https://localhost:8080/"
        },
        "id": "wgUoRejX1UYk",
        "outputId": "70f6e237-3b11-4532-fa20-20b9ba332d34"
      },
      "execution_count": 3,
      "outputs": [
        {
          "output_type": "stream",
          "name": "stdout",
          "text": [
            "Mounted at /content/drive\n"
          ]
        }
      ]
    },
    {
      "cell_type": "code",
      "source": [
        "pip install py_vncorenlp"
      ],
      "metadata": {
        "colab": {
          "base_uri": "https://localhost:8080/"
        },
        "id": "jm6ipp6R1ViF",
        "outputId": "c2ef0518-c7c8-4ec8-e56b-01c9d1fe19d5"
      },
      "execution_count": 4,
      "outputs": [
        {
          "output_type": "stream",
          "name": "stdout",
          "text": [
            "Looking in indexes: https://pypi.org/simple, https://us-python.pkg.dev/colab-wheels/public/simple/\n",
            "Collecting py_vncorenlp\n",
            "  Downloading py_vncorenlp-0.1.3.tar.gz (3.9 kB)\n",
            "Collecting pyjnius\n",
            "  Downloading pyjnius-1.4.2-cp37-cp37m-manylinux_2_17_x86_64.manylinux2014_x86_64.whl (1.3 MB)\n",
            "\u001b[K     |████████████████████████████████| 1.3 MB 5.0 MB/s \n",
            "\u001b[?25hRequirement already satisfied: six>=1.7.0 in /usr/local/lib/python3.7/dist-packages (from pyjnius->py_vncorenlp) (1.15.0)\n",
            "Building wheels for collected packages: py-vncorenlp\n",
            "  Building wheel for py-vncorenlp (setup.py) ... \u001b[?25l\u001b[?25hdone\n",
            "  Created wheel for py-vncorenlp: filename=py_vncorenlp-0.1.3-py3-none-any.whl size=4309 sha256=fbd86ec808d8f17a1e606fef85dd9acac794e3d9fffd903349a996a0b7caf828\n",
            "  Stored in directory: /root/.cache/pip/wheels/87/be/55/d5930c1d90a09832e9afd57a9e13801e3d16c88f5a19f777ae\n",
            "Successfully built py-vncorenlp\n",
            "Installing collected packages: pyjnius, py-vncorenlp\n",
            "Successfully installed py-vncorenlp-0.1.3 pyjnius-1.4.2\n"
          ]
        }
      ]
    },
    {
      "cell_type": "code",
      "source": [
        "import py_vncorenlp\n",
        "\n",
        "# Automatically download VnCoreNLP components from the original repository\n",
        "# and save them in some local machine folder\n",
        "py_vncorenlp.download_model(save_dir='/content/drive/MyDrive/absolute/path/to/vncorenlp')\n",
        "\n",
        "# Load VnCoreNLP\n",
        "# model = py_vncorenlp.VnCoreNLP(save_dir='D:/vuong/spyder/absolute/path/to/vncorenlp')\n",
        "model = py_vncorenlp.VnCoreNLP(annotators=[\"wseg\", \"pos\", \"ner\", \"parse\"], save_dir='/content/drive/MyDrive/absolute/path/to/vncorenlp')\n",
        "\n",
        "# Annotate a raw corpus\n",
        "model.annotate_file(input_file=\"/content/drive/MyDrive/absolute/path/to/input/file.txt\", output_file=\"/content/drive/MyDrive/absolute/path/to/output/file.txt\")\n",
        "\n",
        "# Annotate a raw text\n",
        "model.print_out(model.annotate_text(\"Có gì đó ở đây.\"))"
      ],
      "metadata": {
        "colab": {
          "base_uri": "https://localhost:8080/"
        },
        "id": "b6LWAADm1alx",
        "outputId": "58bf9518-fdf6-40de-962f-a325aa76cdd2"
      },
      "execution_count": 5,
      "outputs": [
        {
          "output_type": "stream",
          "name": "stdout",
          "text": [
            "The VnCoreNLP model is already!\n",
            "1\tCó\tV\tO\t0\troot\n",
            "2\tgì\tP\tO\t1\tvmod\n",
            "3\tđó\tP\tO\t2\tdet\n",
            "4\tở\tE\tO\t1\tloc\n",
            "5\tđây\tP\tO\t4\tpob\n",
            "6\t.\tCH\tO\t1\tpunct\n",
            "\n"
          ]
        }
      ]
    },
    {
      "cell_type": "code",
      "source": [
        "model.print_out(model.annotate_text(\"Ông Nguyễn Khắc Chúc  đang làm việc tại Đại học Quốc gia Hà Nội. Bà Lan, vợ ông Chúc, cũng làm việc tại đây.\"))"
      ],
      "metadata": {
        "colab": {
          "base_uri": "https://localhost:8080/"
        },
        "id": "GTAPfkmN1cKn",
        "outputId": "1f66b3da-5b70-40e5-e3dc-3490587bcf2a"
      },
      "execution_count": null,
      "outputs": [
        {
          "output_type": "stream",
          "name": "stdout",
          "text": [
            "1\tÔng\tNc\tO\t4\tsub\n",
            "2\tNguyễn_Khắc_Chúc\tNp\tB-PER\t1\tnmod\n",
            "3\tđang\tR\tO\t4\tadv\n",
            "4\tlàm_việc\tV\tO\t0\troot\n",
            "5\ttại\tE\tO\t4\tloc\n",
            "6\tĐại_học\tN\tB-ORG\t5\tpob\n",
            "7\tQuốc_gia\tN\tI-ORG\t6\tnmod\n",
            "8\tHà_Nội\tNp\tI-ORG\t6\tnmod\n",
            "9\t.\tCH\tO\t4\tpunct\n",
            "\n",
            "1\tBà\tNc\tO\t9\tsub\n",
            "2\tLan\tNp\tB-PER\t1\tnmod\n",
            "3\t,\tCH\tO\t1\tpunct\n",
            "4\tvợ\tN\tO\t1\tnmod\n",
            "5\tông\tNc\tO\t4\tnmod\n",
            "6\tChúc\tNp\tB-PER\t5\tnmod\n",
            "7\t,\tCH\tO\t1\tpunct\n",
            "8\tcũng\tR\tO\t9\tadv\n",
            "9\tlàm_việc\tV\tO\t0\troot\n",
            "10\ttại\tE\tO\t9\tloc\n",
            "11\tđây\tP\tO\t10\tpob\n",
            "12\t.\tCH\tO\t9\tpunct\n",
            "\n"
          ]
        }
      ]
    },
    {
      "cell_type": "code",
      "source": [
        "model.print_out(model.annotate_text(\"Tôi muốn đi đến cao bá nhạ\"))"
      ],
      "metadata": {
        "colab": {
          "base_uri": "https://localhost:8080/"
        },
        "id": "dmKjDEUZ1eBF",
        "outputId": "a3a1b79b-e3bb-4335-da89-6f997f8ebc6d"
      },
      "execution_count": null,
      "outputs": [
        {
          "output_type": "stream",
          "name": "stdout",
          "text": [
            "1\tTôi\tP\tO\t2\tsub\n",
            "2\tmuốn\tV\tO\t0\troot\n",
            "3\tđi\tV\tO\t2\tvmod\n",
            "4\tđến\tV\tO\t3\tvmod\n",
            "5\tcao\tA\tO\t4\tvmod\n",
            "6\tbá\tN\tO\t3\tdob\n",
            "7\tnhạ\tA\tO\t6\tnmod\n",
            "\n"
          ]
        }
      ]
    },
    {
      "cell_type": "code",
      "source": [
        "model.print_out(model.annotate_text(\"Tôi muốn đi đến Cao Bá Nhạ\"))"
      ],
      "metadata": {
        "colab": {
          "base_uri": "https://localhost:8080/"
        },
        "id": "AWst7A081fNw",
        "outputId": "3b0e3316-ba38-46b1-ef0d-48a986a110ea"
      },
      "execution_count": null,
      "outputs": [
        {
          "output_type": "stream",
          "name": "stdout",
          "text": [
            "1\tTôi\tP\tO\t2\tsub\n",
            "2\tmuốn\tV\tO\t0\troot\n",
            "3\tđi\tV\tO\t2\tvmod\n",
            "4\tđến\tE\tO\t3\tdir\n",
            "5\tCao_Bá_Nhạ\tNp\tB-LOC\t4\tpob\n",
            "\n"
          ]
        }
      ]
    },
    {
      "cell_type": "code",
      "source": [
        "model.print_out(model.annotate_text(\"Tôi muốn đi đến CAO BÁ NHẠ\"))"
      ],
      "metadata": {
        "colab": {
          "base_uri": "https://localhost:8080/"
        },
        "id": "X4muaRW31gnD",
        "outputId": "a9d73529-9bb2-450f-e0d3-6fbbd2ea6f77"
      },
      "execution_count": null,
      "outputs": [
        {
          "output_type": "stream",
          "name": "stdout",
          "text": [
            "1\tTôi\tP\tO\t2\tsub\n",
            "2\tmuốn\tV\tO\t0\troot\n",
            "3\tđi\tV\tO\t2\tvmod\n",
            "4\tđến\tE\tO\t3\tloc\n",
            "5\tCAO\tNy\tB-PER\t4\tpob\n",
            "6\tBÁ\tNy\tI-PER\t5\tnmod\n",
            "7\tNHẠ\tNp\tI-PER\t5\tnmod\n",
            "\n"
          ]
        }
      ]
    },
    {
      "cell_type": "code",
      "source": [
        "model.print_out(model.annotate_text(\"Tôi muốn đi đến đường cao bá nhạ\"))"
      ],
      "metadata": {
        "colab": {
          "base_uri": "https://localhost:8080/"
        },
        "id": "I1Dxj2it1h7b",
        "outputId": "564672e3-f4ad-4902-cea6-7489694bd7a6"
      },
      "execution_count": null,
      "outputs": [
        {
          "output_type": "stream",
          "name": "stdout",
          "text": [
            "1\tTôi\tP\tO\t2\tsub\n",
            "2\tmuốn\tV\tO\t0\troot\n",
            "3\tđi\tV\tO\t2\tvmod\n",
            "4\tđến\tE\tO\t3\tdir\n",
            "5\tđường_cao\tN\tO\t4\tpob\n",
            "6\tbá\tN\tO\t5\tnmod\n",
            "7\tnhạ\tA\tO\t5\tnmod\n",
            "\n"
          ]
        }
      ]
    },
    {
      "cell_type": "code",
      "source": [
        "model.print_out(model.annotate_text(\"Tôi muốn đi đến đường Cao Bá Nhạ\"))"
      ],
      "metadata": {
        "colab": {
          "base_uri": "https://localhost:8080/"
        },
        "id": "DmsPVIWu1lpL",
        "outputId": "28ba61ad-f70f-4b09-ef55-cb2ec4b79e88"
      },
      "execution_count": null,
      "outputs": [
        {
          "output_type": "stream",
          "name": "stdout",
          "text": [
            "1\tTôi\tP\tO\t2\tsub\n",
            "2\tmuốn\tV\tO\t0\troot\n",
            "3\tđi\tV\tO\t2\tvmod\n",
            "4\tđến\tE\tO\t3\tdir\n",
            "5\tđường\tN\tB-LOC\t4\tpob\n",
            "6\tCao_Bá_Nhạ\tNp\tI-LOC\t5\tnmod\n",
            "\n"
          ]
        }
      ]
    },
    {
      "cell_type": "code",
      "source": [
        "model.print_out(model.annotate_text(\"Tôi muốn đi đến đường CAO BÁ NHẠ\"))"
      ],
      "metadata": {
        "colab": {
          "base_uri": "https://localhost:8080/"
        },
        "id": "MbfjUM7d1oS7",
        "outputId": "24ae3fd6-1c22-41f0-b127-2017099d7ee0"
      },
      "execution_count": null,
      "outputs": [
        {
          "output_type": "stream",
          "name": "stdout",
          "text": [
            "1\tTôi\tP\tO\t2\tsub\n",
            "2\tmuốn\tV\tO\t0\troot\n",
            "3\tđi\tV\tO\t2\tvmod\n",
            "4\tđến\tE\tO\t3\tloc\n",
            "5\tđường\tN\tO\t4\tpob\n",
            "6\tCAO\tNy\tO\t5\tnmod\n",
            "7\tBÁ\tNy\tB-PER\t5\tnmod\n",
            "8\tNHẠ\tNp\tI-PER\t5\tnmod\n",
            "\n"
          ]
        }
      ]
    },
    {
      "cell_type": "code",
      "source": [
        "model.print_out(model.annotate_text(\"Đường đến Bùi Viện đi như thế nào\"))"
      ],
      "metadata": {
        "colab": {
          "base_uri": "https://localhost:8080/"
        },
        "id": "72rz7kdw1wYp",
        "outputId": "493685f0-d9b2-478f-e190-da7da053f3d4"
      },
      "execution_count": 6,
      "outputs": [
        {
          "output_type": "stream",
          "name": "stdout",
          "text": [
            "1\tĐường\tN\tO\t4\tsub\n",
            "2\tđến\tV\tO\t1\tnmod\n",
            "3\tBùi_Viện\tNp\tB-LOC\t2\tloc\n",
            "4\tđi\tV\tO\t0\troot\n",
            "5\tnhư_thế_nào\tX\tO\t4\tx\n",
            "\n"
          ]
        }
      ]
    },
    {
      "cell_type": "code",
      "source": [
        "model.print_out(model.annotate_text(\"Đường đến bùi viện đi như thế nào\"))"
      ],
      "metadata": {
        "id": "Gf30ZvDgHQKl",
        "outputId": "36df01d8-3f2e-49b3-897c-d9e84acbcdab",
        "colab": {
          "base_uri": "https://localhost:8080/"
        }
      },
      "execution_count": 7,
      "outputs": [
        {
          "output_type": "stream",
          "name": "stdout",
          "text": [
            "1\tĐường\tN\tO\t4\tsub\n",
            "2\tđến\tV\tO\t1\tnmod\n",
            "3\tbùi_viện\tN\tO\t2\tloc\n",
            "4\tđi\tV\tO\t0\troot\n",
            "5\tnhư_thế_nào\tX\tO\t4\tx\n",
            "\n"
          ]
        }
      ]
    },
    {
      "cell_type": "code",
      "source": [
        "model.print_out(model.annotate_text(\"Đường đến BÙI VIỆN đi như thế nào\"))"
      ],
      "metadata": {
        "id": "lkBCeKQZHQyh",
        "outputId": "224796bb-bbec-49df-c00c-92c0b1f50142",
        "colab": {
          "base_uri": "https://localhost:8080/"
        }
      },
      "execution_count": 8,
      "outputs": [
        {
          "output_type": "stream",
          "name": "stdout",
          "text": [
            "1\tĐường\tN\tO\t0\troot\n",
            "2\tđến\tV\tO\t1\tnmod\n",
            "3\tBÙI_VIỆN\tNy\tO\t2\tloc\n",
            "4\tđi\tV\tO\t2\tprp\n",
            "5\tnhư_thế_nào\tX\tO\t1\tprd\n",
            "\n"
          ]
        }
      ]
    }
  ]
}