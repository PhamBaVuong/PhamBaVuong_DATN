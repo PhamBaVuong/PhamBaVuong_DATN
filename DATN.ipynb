{
  "nbformat": 4,
  "nbformat_minor": 0,
  "metadata": {
    "colab": {
      "name": "DATN.ipynb",
      "provenance": [],
      "authorship_tag": "ABX9TyMKg+ZiG9XVaW7m1ugQNu7N",
      "include_colab_link": true
    },
    "kernelspec": {
      "name": "python3",
      "display_name": "Python 3"
    },
    "language_info": {
      "name": "python"
    }
  },
  "cells": [
    {
      "cell_type": "markdown",
      "metadata": {
        "id": "view-in-github",
        "colab_type": "text"
      },
      "source": [
        "<a href=\"https://colab.research.google.com/github/PhamBaVuong/PhamBaVuong_DATN/blob/main/DATN.ipynb\" target=\"_parent\"><img src=\"https://colab.research.google.com/assets/colab-badge.svg\" alt=\"Open In Colab\"/></a>"
      ]
    },
    {
      "cell_type": "code",
      "source": [
        "from google.colab import drive\n",
        "drive.flush_and_unmount()"
      ],
      "metadata": {
        "id": "se6oR947kGyH"
      },
      "execution_count": null,
      "outputs": []
    },
    {
      "cell_type": "code",
      "source": [
        "from google.colab import drive\n",
        "drive.mount('/content/drive')"
      ],
      "metadata": {
        "colab": {
          "base_uri": "https://localhost:8080/"
        },
        "id": "vaJPwnuQlpk6",
        "outputId": "48751633-1848-4f68-dfbb-30778f64f4b6"
      },
      "execution_count": 1,
      "outputs": [
        {
          "output_type": "stream",
          "name": "stdout",
          "text": [
            "Mounted at /content/drive\n"
          ]
        }
      ]
    },
    {
      "cell_type": "code",
      "source": [
        "pip install py_vncorenlp"
      ],
      "metadata": {
        "colab": {
          "base_uri": "https://localhost:8080/"
        },
        "id": "6rcl26EJhDZv",
        "outputId": "ab3cbc14-eae1-41ae-a16d-cbab509ad811"
      },
      "execution_count": 2,
      "outputs": [
        {
          "output_type": "stream",
          "name": "stdout",
          "text": [
            "Looking in indexes: https://pypi.org/simple, https://us-python.pkg.dev/colab-wheels/public/simple/\n",
            "Collecting py_vncorenlp\n",
            "  Downloading py_vncorenlp-0.1.3.tar.gz (3.9 kB)\n",
            "Collecting pyjnius\n",
            "  Downloading pyjnius-1.4.2-cp37-cp37m-manylinux_2_17_x86_64.manylinux2014_x86_64.whl (1.3 MB)\n",
            "\u001b[K     |████████████████████████████████| 1.3 MB 5.2 MB/s \n",
            "\u001b[?25hRequirement already satisfied: six>=1.7.0 in /usr/local/lib/python3.7/dist-packages (from pyjnius->py_vncorenlp) (1.15.0)\n",
            "Building wheels for collected packages: py-vncorenlp\n",
            "  Building wheel for py-vncorenlp (setup.py) ... \u001b[?25l\u001b[?25hdone\n",
            "  Created wheel for py-vncorenlp: filename=py_vncorenlp-0.1.3-py3-none-any.whl size=4309 sha256=42975cf2e222997c71ad02bcd7f637a36981cca0485414d72dafee046d93c694\n",
            "  Stored in directory: /root/.cache/pip/wheels/87/be/55/d5930c1d90a09832e9afd57a9e13801e3d16c88f5a19f777ae\n",
            "Successfully built py-vncorenlp\n",
            "Installing collected packages: pyjnius, py-vncorenlp\n",
            "Successfully installed py-vncorenlp-0.1.3 pyjnius-1.4.2\n"
          ]
        }
      ]
    },
    {
      "cell_type": "code",
      "execution_count": 3,
      "metadata": {
        "colab": {
          "base_uri": "https://localhost:8080/"
        },
        "id": "yVPXXP_Qg-yr",
        "outputId": "24cc3218-d4e3-492a-8361-db8149837903"
      },
      "outputs": [
        {
          "output_type": "stream",
          "name": "stdout",
          "text": [
            "The VnCoreNLP model is already!\n",
            "1\tCó\tV\tO\t0\troot\n",
            "2\tgì\tP\tO\t1\tvmod\n",
            "3\tđó\tP\tO\t2\tdet\n",
            "4\tở\tE\tO\t1\tloc\n",
            "5\tđây\tP\tO\t4\tpob\n",
            "6\t.\tCH\tO\t1\tpunct\n",
            "\n"
          ]
        }
      ],
      "source": [
        "import py_vncorenlp\n",
        "\n",
        "# Automatically download VnCoreNLP components from the original repository\n",
        "# and save them in some local machine folder\n",
        "py_vncorenlp.download_model(save_dir='/content/drive/MyDrive/absolute/path/to/vncorenlp')\n",
        "\n",
        "# Load VnCoreNLP\n",
        "# model = py_vncorenlp.VnCoreNLP(save_dir='D:/vuong/spyder/absolute/path/to/vncorenlp')\n",
        "model = py_vncorenlp.VnCoreNLP(annotators=[\"wseg\", \"pos\", \"ner\", \"parse\"], save_dir='/content/drive/MyDrive/absolute/path/to/vncorenlp')\n",
        "\n",
        "# Annotate a raw corpus\n",
        "model.annotate_file(input_file=\"/content/drive/MyDrive/absolute/path/to/input/file.txt\", output_file=\"/content/drive/MyDrive/absolute/path/to/output/file.txt\")\n",
        "\n",
        "# Annotate a raw text\n",
        "model.print_out(model.annotate_text(\"Có gì đó ở đây.\"))"
      ]
    },
    {
      "cell_type": "code",
      "source": [
        "model.print_out(model.annotate_text(\"Ông Nguyễn Khắc Chúc  đang làm việc tại Đại học Quốc gia Hà Nội. Bà Lan, vợ ông Chúc, cũng làm việc tại đây.\"))"
      ],
      "metadata": {
        "colab": {
          "base_uri": "https://localhost:8080/"
        },
        "id": "7ThGhyrxq8zY",
        "outputId": "eb59519b-da72-4f3e-c39d-d425a0c5c68d"
      },
      "execution_count": 4,
      "outputs": [
        {
          "output_type": "stream",
          "name": "stdout",
          "text": [
            "1\tÔng\tNc\tO\t4\tsub\n",
            "2\tNguyễn_Khắc_Chúc\tNp\tB-PER\t1\tnmod\n",
            "3\tđang\tR\tO\t4\tadv\n",
            "4\tlàm_việc\tV\tO\t0\troot\n",
            "5\ttại\tE\tO\t4\tloc\n",
            "6\tĐại_học\tN\tB-ORG\t5\tpob\n",
            "7\tQuốc_gia\tN\tI-ORG\t6\tnmod\n",
            "8\tHà_Nội\tNp\tI-ORG\t6\tnmod\n",
            "9\t.\tCH\tO\t4\tpunct\n",
            "\n",
            "1\tBà\tNc\tO\t9\tsub\n",
            "2\tLan\tNp\tB-PER\t1\tnmod\n",
            "3\t,\tCH\tO\t1\tpunct\n",
            "4\tvợ\tN\tO\t1\tnmod\n",
            "5\tông\tNc\tO\t4\tnmod\n",
            "6\tChúc\tNp\tB-PER\t5\tnmod\n",
            "7\t,\tCH\tO\t1\tpunct\n",
            "8\tcũng\tR\tO\t9\tadv\n",
            "9\tlàm_việc\tV\tO\t0\troot\n",
            "10\ttại\tE\tO\t9\tloc\n",
            "11\tđây\tP\tO\t10\tpob\n",
            "12\t.\tCH\tO\t9\tpunct\n",
            "\n"
          ]
        }
      ]
    },
    {
      "cell_type": "code",
      "source": [
        "model.print_out(model.annotate_text(\"Tôi muốn đi đến cao bá nhạ\"))"
      ],
      "metadata": {
        "colab": {
          "base_uri": "https://localhost:8080/"
        },
        "id": "vJq88mzUvnEZ",
        "outputId": "2f80b2b6-f4ac-4fdb-cc3d-014ca49da3e2"
      },
      "execution_count": 31,
      "outputs": [
        {
          "output_type": "stream",
          "name": "stdout",
          "text": [
            "1\tTôi\tP\tO\t2\tsub\n",
            "2\tmuốn\tV\tO\t0\troot\n",
            "3\tđi\tV\tO\t2\tvmod\n",
            "4\tđến\tV\tO\t3\tvmod\n",
            "5\tcao\tA\tO\t4\tvmod\n",
            "6\tbá\tN\tO\t3\tdob\n",
            "7\tnhạ\tA\tO\t6\tnmod\n",
            "\n"
          ]
        }
      ]
    },
    {
      "cell_type": "code",
      "source": [
        "model.print_out(model.annotate_text(\"Tôi muốn đi đến Cao Bá Nhạ\"))"
      ],
      "metadata": {
        "colab": {
          "base_uri": "https://localhost:8080/"
        },
        "id": "QrHClVOmsSlD",
        "outputId": "ca8db617-e87e-4c64-eca3-499a4b125e71"
      },
      "execution_count": 32,
      "outputs": [
        {
          "output_type": "stream",
          "name": "stdout",
          "text": [
            "1\tTôi\tP\tO\t2\tsub\n",
            "2\tmuốn\tV\tO\t0\troot\n",
            "3\tđi\tV\tO\t2\tvmod\n",
            "4\tđến\tE\tO\t3\tdir\n",
            "5\tCao_Bá_Nhạ\tNp\tB-LOC\t4\tpob\n",
            "\n"
          ]
        }
      ]
    },
    {
      "cell_type": "code",
      "source": [
        "model.print_out(model.annotate_text(\"Tôi muốn đi đến CAO BÁ NHẠ\"))"
      ],
      "metadata": {
        "colab": {
          "base_uri": "https://localhost:8080/"
        },
        "id": "sGIstXqTvaIf",
        "outputId": "9803df73-6551-4fb1-d25b-54970235d67a"
      },
      "execution_count": 33,
      "outputs": [
        {
          "output_type": "stream",
          "name": "stdout",
          "text": [
            "1\tTôi\tP\tO\t2\tsub\n",
            "2\tmuốn\tV\tO\t0\troot\n",
            "3\tđi\tV\tO\t2\tvmod\n",
            "4\tđến\tE\tO\t3\tloc\n",
            "5\tCAO\tNy\tB-PER\t4\tpob\n",
            "6\tBÁ\tNy\tI-PER\t5\tnmod\n",
            "7\tNHẠ\tNp\tI-PER\t5\tnmod\n",
            "\n"
          ]
        }
      ]
    },
    {
      "cell_type": "code",
      "source": [
        "model.print_out(model.annotate_text(\"Tôi muốn đi đến đường cao bá nhạ\"))"
      ],
      "metadata": {
        "colab": {
          "base_uri": "https://localhost:8080/"
        },
        "id": "IlSWOkE5xD5z",
        "outputId": "bf2d2064-189d-452c-c878-7f96772db4e8"
      },
      "execution_count": 34,
      "outputs": [
        {
          "output_type": "stream",
          "name": "stdout",
          "text": [
            "1\tTôi\tP\tO\t2\tsub\n",
            "2\tmuốn\tV\tO\t0\troot\n",
            "3\tđi\tV\tO\t2\tvmod\n",
            "4\tđến\tE\tO\t3\tdir\n",
            "5\tđường_cao\tN\tO\t4\tpob\n",
            "6\tbá\tN\tO\t5\tnmod\n",
            "7\tnhạ\tA\tO\t5\tnmod\n",
            "\n"
          ]
        }
      ]
    },
    {
      "cell_type": "code",
      "source": [
        "model.print_out(model.annotate_text(\"Tôi muốn đi đến đường Cao Bá Nhạ\"))"
      ],
      "metadata": {
        "colab": {
          "base_uri": "https://localhost:8080/"
        },
        "id": "VnIBkAazxGXa",
        "outputId": "60b44db9-1d03-418e-af8b-2970c3815446"
      },
      "execution_count": 35,
      "outputs": [
        {
          "output_type": "stream",
          "name": "stdout",
          "text": [
            "1\tTôi\tP\tO\t2\tsub\n",
            "2\tmuốn\tV\tO\t0\troot\n",
            "3\tđi\tV\tO\t2\tvmod\n",
            "4\tđến\tE\tO\t3\tdir\n",
            "5\tđường\tN\tB-LOC\t4\tpob\n",
            "6\tCao_Bá_Nhạ\tNp\tI-LOC\t5\tnmod\n",
            "\n"
          ]
        }
      ]
    },
    {
      "cell_type": "code",
      "source": [
        "model.print_out(model.annotate_text(\"Tôi muốn đi đến đường CAO BÁ NHẠ\"))"
      ],
      "metadata": {
        "colab": {
          "base_uri": "https://localhost:8080/"
        },
        "id": "Z_KFI5eCxG5Q",
        "outputId": "03b588ae-05c4-4c0c-fbbb-901bb67a53e5"
      },
      "execution_count": 36,
      "outputs": [
        {
          "output_type": "stream",
          "name": "stdout",
          "text": [
            "1\tTôi\tP\tO\t2\tsub\n",
            "2\tmuốn\tV\tO\t0\troot\n",
            "3\tđi\tV\tO\t2\tvmod\n",
            "4\tđến\tE\tO\t3\tloc\n",
            "5\tđường\tN\tO\t4\tpob\n",
            "6\tCAO\tNy\tO\t5\tnmod\n",
            "7\tBÁ\tNy\tB-PER\t5\tnmod\n",
            "8\tNHẠ\tNp\tI-PER\t5\tnmod\n",
            "\n"
          ]
        }
      ]
    }
  ]
}